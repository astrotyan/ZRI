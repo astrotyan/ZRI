{
 "cells": [
  {
   "cell_type": "markdown",
   "metadata": {},
   "source": [
    "# Libraries and Settings"
   ]
  },
  {
   "cell_type": "code",
   "execution_count": 1,
   "metadata": {},
   "outputs": [],
   "source": [
    "import numpy as np\n",
    "import pandas as pd\n",
    "import matplotlib.pyplot as plt\n",
    "%matplotlib inline"
   ]
  },
  {
   "cell_type": "markdown",
   "metadata": {},
   "source": [
    "# Import and Clean ZRI Data"
   ]
  },
  {
   "cell_type": "code",
   "execution_count": 120,
   "metadata": {},
   "outputs": [],
   "source": [
    "zri = pd.read_csv('../data/zri/Zip_Zri_AllHomesPlusMultifamily.csv').set_index('RegionName')"
   ]
  },
  {
   "cell_type": "code",
   "execution_count": 121,
   "metadata": {},
   "outputs": [],
   "source": [
    "col_start = 11\n",
    "year_start = 2011\n",
    "year_end = 2019\n",
    "zri_ann = {}\n",
    "for y in range(year_start,year_end+1):\n",
    "    zri_ann[str(y)] = zri.iloc[:,col_start+(y-year_start)*12:col_start+(y-year_start)*12+12]"
   ]
  },
  {
   "cell_type": "code",
   "execution_count": 122,
   "metadata": {},
   "outputs": [],
   "source": [
    "zri_2017 = zri_ann['2017'].copy()"
   ]
  },
  {
   "cell_type": "code",
   "execution_count": 124,
   "metadata": {},
   "outputs": [],
   "source": [
    "import seaborn as sns"
   ]
  },
  {
   "cell_type": "code",
   "execution_count": 125,
   "metadata": {},
   "outputs": [
    {
     "data": {
      "text/plain": [
       "<matplotlib.axes._subplots.AxesSubplot at 0x122100f90>"
      ]
     },
     "execution_count": 125,
     "metadata": {},
     "output_type": "execute_result"
    },
    {
     "data": {
      "image/png": "[encoded data removed]",
      "text/plain": [
       "<Figure size 432x288 with 1 Axes>"
      ]
     },
     "metadata": {
      "needs_background": "light"
     },
     "output_type": "display_data"
    }
   ],
   "source": [
    "sns.heatmap(zri_2017.isna(),cbar=False)"
   ]
  },
  {
   "cell_type": "code",
   "execution_count": 126,
   "metadata": {},
   "outputs": [
    {
     "data": {
      "text/plain": [
       "(array([12136.,   248.,   165.,   113.,    91.,   125.,    34.,    22.,\n",
       "           29.,   218.]),\n",
       " array([ 0. ,  1.2,  2.4,  3.6,  4.8,  6. ,  7.2,  8.4,  9.6, 10.8, 12. ]),\n",
       " <a list of 10 Patch objects>)"
      ]
     },
     "execution_count": 126,
     "metadata": {},
     "output_type": "execute_result"
    },
    {
     "data": {
      "image/png": "[encoded data removed]",
      "text/plain": [
       "<Figure size 432x288 with 1 Axes>"
      ]
     },
     "metadata": {
      "needs_background": "light"
     },
     "output_type": "display_data"
    }
   ],
   "source": [
    "plt.hist(zri_2017.isna().sum(axis=1))"
   ]
  },
  {
   "cell_type": "code",
   "execution_count": 127,
   "metadata": {},
   "outputs": [],
   "source": [
    "good = zri_2017.isna().sum(axis=1) < 1\n",
    "zri_2017 = zri_2017[good]\n",
    "zri_2017_av = pd.DataFrame(zri_2017.mean(axis=1),columns=['2017_av'])"
   ]
  },
  {
   "cell_type": "markdown",
   "metadata": {},
   "source": [
    "# Import and Clean ACS Data"
   ]
  },
  {
   "cell_type": "code",
   "execution_count": 36,
   "metadata": {
    "scrolled": false
   },
   "outputs": [
    {
     "name": "stdout",
     "output_type": "stream",
     "text": [
      "File:  ../data/ACS_zip/zip_codes_2017.csv\n",
      "File:  ../data/ACS_zip/zip_codes_2016.csv\n",
      "File:  ../data/ACS_zip/zip_codes_2014.csv\n",
      "File:  ../data/ACS_zip/zip_codes_2015.csv\n",
      "File:  ../data/ACS_zip/zip_codes_2011.csv\n",
      "File:  ../data/ACS_zip/zip_codes_2012.csv\n",
      "File:  ../data/ACS_zip/zip_codes_2013.csv\n"
     ]
    },
    {
     "data": {
      "text/plain": [
       "(231840, 254)"
      ]
     },
     "execution_count": 36,
     "metadata": {},
     "output_type": "execute_result"
    }
   ],
   "source": [
    "data = []\n",
    "\n",
    "import glob\n",
    "files = glob.glob('../data/ACS_zip/zip_codes_*')\n",
    "\n",
    "for i in range(len(files)):\n",
    "    print('File: ',files[i])\n",
    "    raw = pd.read_csv(files[i])\n",
    "    raw['year'] = int(re.search('[0-9]+',files[i]).group())\n",
    "    data.append(raw)\n",
    "\n",
    "acs = pd.concat(data,sort=False)\n",
    "acs.shape"
   ]
  },
  {
   "cell_type": "code",
   "execution_count": 141,
   "metadata": {},
   "outputs": [],
   "source": [
    "acs_2017 = acs[acs['year'] == 2017].drop(['do_date','year','geoid'],axis=1)"
   ]
  },
  {
   "cell_type": "markdown",
   "metadata": {},
   "source": [
    "# Combine and Clean"
   ]
  },
  {
   "cell_type": "code",
   "execution_count": 184,
   "metadata": {
    "scrolled": true
   },
   "outputs": [],
   "source": [
    "comb = pd.merge(zri_2017_av,acs_2017,left_on=zri_2017_av.index,right_on='geo_id').set_index('geo_id')"
   ]
  },
  {
   "cell_type": "code",
   "execution_count": 185,
   "metadata": {},
   "outputs": [
    {
     "name": "stdout",
     "output_type": "stream",
     "text": [
      "aggregate_travel_time_to_work 0.05277475516866159\n",
      "median_rent 0.005114254624591948\n",
      "renter_occupied_housing_units_paying_cash_median_gross_rent 0.0045701849836779105\n",
      "percent_income_spent_on_rent 0.002720348204570185\n",
      "owner_occupied_housing_units_lower_value_quartile 0.0015233949945593036\n",
      "owner_occupied_housing_units_median_value 0.0007616974972796518\n",
      "median_year_structure_built 0.000544069640914037\n",
      "median_income 0.0004352557127312296\n",
      "owner_occupied_housing_units_upper_value_quartile 0.0002176278563656148\n",
      "income_per_capita 0.0001088139281828074\n",
      "gini_index 0.0001088139281828074\n",
      "median_age 0.0001088139281828074\n"
     ]
    }
   ],
   "source": [
    "missing_col = X_train.isna().mean().sort_values(ascending=False) # Percentage of missing for each column.\n",
    "\n",
    "for i in range(missing_col[missing_col > 0].shape[0]):\n",
    "    print(missing_col[missing_col > 0].index[i], missing_col[missing_col > 0][i])\n",
    "# print out columns that have missing values and their percentage of missingness."
   ]
  },
  {
   "cell_type": "markdown",
   "metadata": {},
   "source": [
    "Some columns are 100% missing. Drop these columns. Some have low percentage of missingness. Drop rows (zip codes) that have missing values."
   ]
  },
  {
   "cell_type": "code",
   "execution_count": 186,
   "metadata": {},
   "outputs": [],
   "source": [
    "comb = comb.dropna(axis=1,how='all')\n",
    "comb = comb.dropna(axis=0,how='any')"
   ]
  },
  {
   "cell_type": "code",
   "execution_count": 190,
   "metadata": {},
   "outputs": [],
   "source": [
    "y = comb.iloc[:,0]\n",
    "X = comb.iloc[:,1:]"
   ]
  },
  {
   "cell_type": "code",
   "execution_count": 191,
   "metadata": {},
   "outputs": [],
   "source": [
    "from sklearn.model_selection import train_test_split\n",
    "X_train, X_test, y_train, y_test = train_test_split(X, y, test_size=0.2, random_state=42)"
   ]
  },
  {
   "cell_type": "markdown",
   "metadata": {},
   "source": [
    "# EDA"
   ]
  },
  {
   "cell_type": "code",
   "execution_count": 235,
   "metadata": {
    "scrolled": true
   },
   "outputs": [
    {
     "data": {
      "text/plain": [
       "<matplotlib.collections.PathCollection at 0x1437fe590>"
      ]
     },
     "execution_count": 235,
     "metadata": {},
     "output_type": "execute_result"
    },
    {
     "data": {
      "image/png": "[encoded data removed]",
      "text/plain": [
       "<Figure size 432x288 with 1 Axes>"
      ]
     },
     "metadata": {
      "needs_background": "light"
     },
     "output_type": "display_data"
    }
   ],
   "source": [
    "plt.scatter(X_train['nonfamily_households'],np.log(y_train))"
   ]
  },
  {
   "cell_type": "markdown",
   "metadata": {},
   "source": [
    "One zri is exceptionally high."
   ]
  },
  {
   "cell_type": "code",
   "execution_count": 203,
   "metadata": {
    "scrolled": false
   },
   "outputs": [
    {
     "data": {
      "text/plain": [
       "(array([2462., 3699., 1389.,  710.,  232.,  100.,   39.,   23.,    9.,\n",
       "           5.]),\n",
       " array([ 523.16666667, 1040.775     , 1558.38333333, 2075.99166667,\n",
       "        2593.6       , 3111.20833333, 3628.81666667, 4146.425     ,\n",
       "        4664.03333333, 5181.64166667, 5699.25      ]),\n",
       " <a list of 10 Patch objects>)"
      ]
     },
     "execution_count": 203,
     "metadata": {},
     "output_type": "execute_result"
    },
    {
     "data": {
      "image/png": "[encoded data removed]",
      "text/plain": [
       "<Figure size 432x288 with 1 Axes>"
      ]
     },
     "metadata": {
      "needs_background": "light"
     },
     "output_type": "display_data"
    }
   ],
   "source": [
    "plt.hist(y_train[y_train < 10000])"
   ]
  },
  {
   "cell_type": "markdown",
   "metadata": {},
   "source": [
    "The histogram excluding the outlier looks okay."
   ]
  },
  {
   "cell_type": "code",
   "execution_count": 233,
   "metadata": {
    "scrolled": false
   },
   "outputs": [
    {
     "data": {
      "text/plain": [
       "(array([  33.,  791., 1848., 2284., 1851.,  938.,  636.,  196.,   73.,\n",
       "          18.]),\n",
       " array([6.25990009, 6.49871907, 6.73753804, 6.97635702, 7.215176  ,\n",
       "        7.45399498, 7.69281395, 7.93163293, 8.17045191, 8.40927089,\n",
       "        8.64808987]),\n",
       " <a list of 10 Patch objects>)"
      ]
     },
     "execution_count": 233,
     "metadata": {},
     "output_type": "execute_result"
    },
    {
     "data": {
      "image/png": "[encoded data removed]",
      "text/plain": [
       "<Figure size 432x288 with 1 Axes>"
      ]
     },
     "metadata": {
      "needs_background": "light"
     },
     "output_type": "display_data"
    }
   ],
   "source": [
    "plt.hist(np.log(y_train[y_train < 10000]))"
   ]
  },
  {
   "cell_type": "markdown",
   "metadata": {},
   "source": [
    "The log distribution is more symmetric!"
   ]
  },
  {
   "cell_type": "code",
   "execution_count": 234,
   "metadata": {},
   "outputs": [
    {
     "data": {
      "text/plain": [
       "(array([3.350e+02, 2.802e+03, 3.493e+03, 1.504e+03, 4.580e+02, 7.200e+01,\n",
       "        4.000e+00, 0.000e+00, 0.000e+00, 1.000e+00]),\n",
       " array([ 6.25990009,  6.64784836,  7.03579663,  7.4237449 ,  7.81169317,\n",
       "         8.19964144,  8.58758971,  8.97553798,  9.36348625,  9.75143452,\n",
       "        10.13938279]),\n",
       " <a list of 10 Patch objects>)"
      ]
     },
     "execution_count": 234,
     "metadata": {},
     "output_type": "execute_result"
    },
    {
     "data": {
      "image/png": "[encoded data removed]",
      "text/plain": [
       "<Figure size 432x288 with 1 Axes>"
      ]
     },
     "metadata": {
      "needs_background": "light"
     },
     "output_type": "display_data"
    }
   ],
   "source": [
    "plt.hist(np.log(y_train))"
   ]
  },
  {
   "cell_type": "code",
   "execution_count": 197,
   "metadata": {
    "scrolled": true
   },
   "outputs": [
    {
     "data": {
      "text/plain": [
       "geo_id\n",
       "11978    25320.833333\n",
       "Name: 2017_av, dtype: float64"
      ]
     },
     "execution_count": 197,
     "metadata": {},
     "output_type": "execute_result"
    }
   ],
   "source": [
    "y_train[y_train > 10000]"
   ]
  },
  {
   "cell_type": "code",
   "execution_count": 202,
   "metadata": {
    "scrolled": true
   },
   "outputs": [
    {
     "data": {
      "text/html": [
       "<div>\n",
       "<style scoped>\n",
       "    .dataframe tbody tr th:only-of-type {\n",
       "        vertical-align: middle;\n",
       "    }\n",
       "\n",
       "    .dataframe tbody tr th {\n",
       "        vertical-align: top;\n",
       "    }\n",
       "\n",
       "    .dataframe thead th {\n",
       "        text-align: right;\n",
       "    }\n",
       "</style>\n",
       "<table border=\"1\" class=\"dataframe\">\n",
       "  <thead>\n",
       "    <tr style=\"text-align: right;\">\n",
       "      <th></th>\n",
       "      <th>RegionID</th>\n",
       "      <th>City</th>\n",
       "      <th>State</th>\n",
       "      <th>Metro</th>\n",
       "      <th>CountyName</th>\n",
       "      <th>SizeRank</th>\n",
       "      <th>2010-09</th>\n",
       "      <th>2010-10</th>\n",
       "      <th>2010-11</th>\n",
       "      <th>2010-12</th>\n",
       "      <th>...</th>\n",
       "      <th>2019-04</th>\n",
       "      <th>2019-05</th>\n",
       "      <th>2019-06</th>\n",
       "      <th>2019-07</th>\n",
       "      <th>2019-08</th>\n",
       "      <th>2019-09</th>\n",
       "      <th>2019-10</th>\n",
       "      <th>2019-11</th>\n",
       "      <th>2019-12</th>\n",
       "      <th>2020-01</th>\n",
       "    </tr>\n",
       "    <tr>\n",
       "      <th>RegionName</th>\n",
       "      <th></th>\n",
       "      <th></th>\n",
       "      <th></th>\n",
       "      <th></th>\n",
       "      <th></th>\n",
       "      <th></th>\n",
       "      <th></th>\n",
       "      <th></th>\n",
       "      <th></th>\n",
       "      <th></th>\n",
       "      <th></th>\n",
       "      <th></th>\n",
       "      <th></th>\n",
       "      <th></th>\n",
       "      <th></th>\n",
       "      <th></th>\n",
       "      <th></th>\n",
       "      <th></th>\n",
       "      <th></th>\n",
       "      <th></th>\n",
       "      <th></th>\n",
       "    </tr>\n",
       "  </thead>\n",
       "  <tbody>\n",
       "    <tr>\n",
       "      <th>11978</th>\n",
       "      <td>62323</td>\n",
       "      <td>Westhampton Beach</td>\n",
       "      <td>NY</td>\n",
       "      <td>New York-Newark-Jersey City</td>\n",
       "      <td>Suffolk County</td>\n",
       "      <td>9895</td>\n",
       "      <td>8976.0</td>\n",
       "      <td>9160.0</td>\n",
       "      <td>9099.0</td>\n",
       "      <td>NaN</td>\n",
       "      <td>...</td>\n",
       "      <td>21732.0</td>\n",
       "      <td>21914.0</td>\n",
       "      <td>22025.0</td>\n",
       "      <td>22018.0</td>\n",
       "      <td>21828.0</td>\n",
       "      <td>21338.0</td>\n",
       "      <td>NaN</td>\n",
       "      <td>20354.0</td>\n",
       "      <td>NaN</td>\n",
       "      <td>20672.0</td>\n",
       "    </tr>\n",
       "  </tbody>\n",
       "</table>\n",
       "<p>1 rows × 119 columns</p>\n",
       "</div>"
      ],
      "text/plain": [
       "            RegionID               City State                        Metro  \\\n",
       "RegionName                                                                   \n",
       "11978          62323  Westhampton Beach    NY  New York-Newark-Jersey City   \n",
       "\n",
       "                CountyName  SizeRank  2010-09  2010-10  2010-11  2010-12  ...  \\\n",
       "RegionName                                                                ...   \n",
       "11978       Suffolk County      9895   8976.0   9160.0   9099.0      NaN  ...   \n",
       "\n",
       "            2019-04  2019-05  2019-06  2019-07  2019-08  2019-09  2019-10  \\\n",
       "RegionName                                                                  \n",
       "11978       21732.0  21914.0  22025.0  22018.0  21828.0  21338.0      NaN   \n",
       "\n",
       "            2019-11  2019-12  2020-01  \n",
       "RegionName                             \n",
       "11978       20354.0      NaN  20672.0  \n",
       "\n",
       "[1 rows x 119 columns]"
      ]
     },
     "execution_count": 202,
     "metadata": {},
     "output_type": "execute_result"
    }
   ],
   "source": [
    "zri.loc[zri.index == 11978,:]"
   ]
  },
  {
   "cell_type": "markdown",
   "metadata": {},
   "source": [
    "The outlier is a zip code along the shore in Long Island, New York. Its rent price is indeed high on the zillow website."
   ]
  },
  {
   "cell_type": "code",
   "execution_count": 241,
   "metadata": {},
   "outputs": [
    {
     "data": {
      "text/plain": [
       "geo_id\n",
       "11978    1621.0\n",
       "Name: median_rent, dtype: float64"
      ]
     },
     "execution_count": 241,
     "metadata": {},
     "output_type": "execute_result"
    }
   ],
   "source": [
    "X_train[X_train.index == 11978]['median_rent']"
   ]
  },
  {
   "cell_type": "markdown",
   "metadata": {},
   "source": [
    "But the median_rent in the cencus data is inconsistent with zri."
   ]
  },
  {
   "cell_type": "code",
   "execution_count": 240,
   "metadata": {},
   "outputs": [
    {
     "data": {
      "text/plain": [
       "Text(0, 0.5, 'Log ACS Median Rent')"
      ]
     },
     "execution_count": 240,
     "metadata": {},
     "output_type": "execute_result"
    },
    {
     "data": {
      "image/png": "[encoded data removed]",
      "text/plain": [
       "<Figure size 432x288 with 1 Axes>"
      ]
     },
     "metadata": {
      "needs_background": "light"
     },
     "output_type": "display_data"
    }
   ],
   "source": [
    "plt.scatter(np.log(y_train[y_train < 10000]),np.log(X_train.loc[y_train < 10000,'median_rent']))\n",
    "plt.xlabel('Log ZRI')\n",
    "plt.ylabel('Log ACS Median Rent')"
   ]
  },
  {
   "cell_type": "markdown",
   "metadata": {},
   "source": [
    "Except one outlier, the median rent in ACS are largely consistent with zri."
   ]
  },
  {
   "cell_type": "markdown",
   "metadata": {},
   "source": [
    "# Toy Model - Predict 2019 ZRI the Same as 2018"
   ]
  },
  {
   "cell_type": "code",
   "execution_count": 253,
   "metadata": {},
   "outputs": [],
   "source": [
    "data = zri.iloc[:,10:-1]"
   ]
  },
  {
   "cell_type": "code",
   "execution_count": 254,
   "metadata": {},
   "outputs": [],
   "source": [
    "data_2018_2019 = data.iloc[:,12*7:]"
   ]
  },
  {
   "cell_type": "code",
   "execution_count": 258,
   "metadata": {},
   "outputs": [],
   "source": [
    "data_2018_2019 = data_2018_2019.dropna()"
   ]
  },
  {
   "cell_type": "code",
   "execution_count": 264,
   "metadata": {},
   "outputs": [],
   "source": [
    "ave_2018 = data_2018_2019.iloc[:,:12].mean(axis=1)\n",
    "ave_2019 = data_2018_2019.iloc[:,12:].mean(axis=1)"
   ]
  },
  {
   "cell_type": "code",
   "execution_count": 265,
   "metadata": {},
   "outputs": [
    {
     "data": {
      "text/plain": [
       "49.094543736654465"
      ]
     },
     "execution_count": 265,
     "metadata": {},
     "output_type": "execute_result"
    }
   ],
   "source": [
    "np.sqrt(np.sum((ave_2018-ave_2019)**2)/ave_2019.shape[0])"
   ]
  }
 ],
 "metadata": {
  "kernelspec": {
   "display_name": "Python 3",
   "language": "python",
   "name": "python3"
  },
  "language_info": {
   "codemirror_mode": {
    "name": "ipython",
    "version": 3
   },
   "file_extension": ".py",
   "mimetype": "text/x-python",
   "name": "python",
   "nbconvert_exporter": "python",
   "pygments_lexer": "ipython3",
   "version": "3.7.6"
  }
 },
 "nbformat": 4,
 "nbformat_minor": 4
}
