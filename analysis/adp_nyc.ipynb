{
 "cells": [
  {
   "cell_type": "markdown",
   "metadata": {},
   "source": [
    "# Libraries and Settings"
   ]
  },
  {
   "cell_type": "code",
   "execution_count": 413,
   "metadata": {},
   "outputs": [],
   "source": [
    "import numpy as np\n",
    "import pandas as pd\n",
    "import matplotlib.pyplot as plt\n",
    "%matplotlib inline\n",
    "import math"
   ]
  },
  {
   "cell_type": "markdown",
   "metadata": {},
   "source": [
    "# Import Data"
   ]
  },
  {
   "cell_type": "code",
   "execution_count": 224,
   "metadata": {},
   "outputs": [],
   "source": [
    "region = pd.read_csv('../data/ny_zip.csv',dtype={'zip':'object'})\n",
    "ny_zip = region[['zip']]\n",
    "zri = pd.read_csv('../data/ny_zri.csv',dtype={'zip':'object'})"
   ]
  },
  {
   "cell_type": "code",
   "execution_count": 814,
   "metadata": {},
   "outputs": [
    {
     "data": {
      "text/html": [
       "<div>\n",
       "<style scoped>\n",
       "    .dataframe tbody tr th:only-of-type {\n",
       "        vertical-align: middle;\n",
       "    }\n",
       "\n",
       "    .dataframe tbody tr th {\n",
       "        vertical-align: top;\n",
       "    }\n",
       "\n",
       "    .dataframe thead th {\n",
       "        text-align: right;\n",
       "    }\n",
       "</style>\n",
       "<table border=\"1\" class=\"dataframe\">\n",
       "  <thead>\n",
       "    <tr style=\"text-align: right;\">\n",
       "      <th></th>\n",
       "      <th>zip</th>\n",
       "      <th>2011-01</th>\n",
       "      <th>2011-02</th>\n",
       "      <th>2011-03</th>\n",
       "      <th>2011-04</th>\n",
       "      <th>2011-05</th>\n",
       "      <th>2011-06</th>\n",
       "      <th>2011-07</th>\n",
       "      <th>2011-08</th>\n",
       "      <th>2011-09</th>\n",
       "      <th>...</th>\n",
       "      <th>2019-03</th>\n",
       "      <th>2019-04</th>\n",
       "      <th>2019-05</th>\n",
       "      <th>2019-06</th>\n",
       "      <th>2019-07</th>\n",
       "      <th>2019-08</th>\n",
       "      <th>2019-09</th>\n",
       "      <th>2019-10</th>\n",
       "      <th>2019-11</th>\n",
       "      <th>2019-12</th>\n",
       "    </tr>\n",
       "  </thead>\n",
       "  <tbody>\n",
       "    <tr>\n",
       "      <th>0</th>\n",
       "      <td>10025</td>\n",
       "      <td>2866.0</td>\n",
       "      <td>2828.0</td>\n",
       "      <td>2799.0</td>\n",
       "      <td>2791.0</td>\n",
       "      <td>2797.0</td>\n",
       "      <td>2823.0</td>\n",
       "      <td>2843.0</td>\n",
       "      <td>2858.0</td>\n",
       "      <td>2882.0</td>\n",
       "      <td>...</td>\n",
       "      <td>3467.0</td>\n",
       "      <td>3484.0</td>\n",
       "      <td>3523.0</td>\n",
       "      <td>3573.0</td>\n",
       "      <td>3622.0</td>\n",
       "      <td>3664.0</td>\n",
       "      <td>3698.0</td>\n",
       "      <td>3704.0</td>\n",
       "      <td>3692.0</td>\n",
       "      <td>3715.0</td>\n",
       "    </tr>\n",
       "    <tr>\n",
       "      <th>1</th>\n",
       "      <td>10023</td>\n",
       "      <td>2736.0</td>\n",
       "      <td>2675.0</td>\n",
       "      <td>2667.0</td>\n",
       "      <td>2680.0</td>\n",
       "      <td>2692.0</td>\n",
       "      <td>2707.0</td>\n",
       "      <td>2719.0</td>\n",
       "      <td>2738.0</td>\n",
       "      <td>2759.0</td>\n",
       "      <td>...</td>\n",
       "      <td>3457.0</td>\n",
       "      <td>3449.0</td>\n",
       "      <td>3459.0</td>\n",
       "      <td>3479.0</td>\n",
       "      <td>3491.0</td>\n",
       "      <td>3510.0</td>\n",
       "      <td>3521.0</td>\n",
       "      <td>3574.0</td>\n",
       "      <td>3608.0</td>\n",
       "      <td>3561.0</td>\n",
       "    </tr>\n",
       "    <tr>\n",
       "      <th>2</th>\n",
       "      <td>11226</td>\n",
       "      <td>1590.0</td>\n",
       "      <td>1570.0</td>\n",
       "      <td>1557.0</td>\n",
       "      <td>1549.0</td>\n",
       "      <td>1556.0</td>\n",
       "      <td>1578.0</td>\n",
       "      <td>1596.0</td>\n",
       "      <td>1600.0</td>\n",
       "      <td>1599.0</td>\n",
       "      <td>...</td>\n",
       "      <td>2018.0</td>\n",
       "      <td>2023.0</td>\n",
       "      <td>2028.0</td>\n",
       "      <td>2040.0</td>\n",
       "      <td>2054.0</td>\n",
       "      <td>2063.0</td>\n",
       "      <td>2073.0</td>\n",
       "      <td>2125.0</td>\n",
       "      <td>2098.0</td>\n",
       "      <td>2127.0</td>\n",
       "    </tr>\n",
       "    <tr>\n",
       "      <th>3</th>\n",
       "      <td>10467</td>\n",
       "      <td>1448.0</td>\n",
       "      <td>1443.0</td>\n",
       "      <td>1431.0</td>\n",
       "      <td>1425.0</td>\n",
       "      <td>1415.0</td>\n",
       "      <td>1405.0</td>\n",
       "      <td>1396.0</td>\n",
       "      <td>1379.0</td>\n",
       "      <td>1367.0</td>\n",
       "      <td>...</td>\n",
       "      <td>1777.0</td>\n",
       "      <td>1774.0</td>\n",
       "      <td>1778.0</td>\n",
       "      <td>1786.0</td>\n",
       "      <td>1792.0</td>\n",
       "      <td>1803.0</td>\n",
       "      <td>1818.0</td>\n",
       "      <td>1847.0</td>\n",
       "      <td>1861.0</td>\n",
       "      <td>1860.0</td>\n",
       "    </tr>\n",
       "    <tr>\n",
       "      <th>4</th>\n",
       "      <td>10016</td>\n",
       "      <td>2765.0</td>\n",
       "      <td>2692.0</td>\n",
       "      <td>2668.0</td>\n",
       "      <td>2669.0</td>\n",
       "      <td>2688.0</td>\n",
       "      <td>2709.0</td>\n",
       "      <td>2725.0</td>\n",
       "      <td>2749.0</td>\n",
       "      <td>2767.0</td>\n",
       "      <td>...</td>\n",
       "      <td>3503.0</td>\n",
       "      <td>3515.0</td>\n",
       "      <td>3529.0</td>\n",
       "      <td>3540.0</td>\n",
       "      <td>3543.0</td>\n",
       "      <td>3551.0</td>\n",
       "      <td>3569.0</td>\n",
       "      <td>3614.0</td>\n",
       "      <td>3576.0</td>\n",
       "      <td>3538.0</td>\n",
       "    </tr>\n",
       "    <tr>\n",
       "      <th>...</th>\n",
       "      <td>...</td>\n",
       "      <td>...</td>\n",
       "      <td>...</td>\n",
       "      <td>...</td>\n",
       "      <td>...</td>\n",
       "      <td>...</td>\n",
       "      <td>...</td>\n",
       "      <td>...</td>\n",
       "      <td>...</td>\n",
       "      <td>...</td>\n",
       "      <td>...</td>\n",
       "      <td>...</td>\n",
       "      <td>...</td>\n",
       "      <td>...</td>\n",
       "      <td>...</td>\n",
       "      <td>...</td>\n",
       "      <td>...</td>\n",
       "      <td>...</td>\n",
       "      <td>...</td>\n",
       "      <td>...</td>\n",
       "      <td>...</td>\n",
       "    </tr>\n",
       "    <tr>\n",
       "      <th>133</th>\n",
       "      <td>11429</td>\n",
       "      <td>1457.0</td>\n",
       "      <td>1463.0</td>\n",
       "      <td>1464.0</td>\n",
       "      <td>1470.0</td>\n",
       "      <td>1466.0</td>\n",
       "      <td>1474.0</td>\n",
       "      <td>1484.0</td>\n",
       "      <td>1489.0</td>\n",
       "      <td>1495.0</td>\n",
       "      <td>...</td>\n",
       "      <td>2139.0</td>\n",
       "      <td>2118.0</td>\n",
       "      <td>2107.0</td>\n",
       "      <td>2102.0</td>\n",
       "      <td>2087.0</td>\n",
       "      <td>2074.0</td>\n",
       "      <td>2070.0</td>\n",
       "      <td>2090.0</td>\n",
       "      <td>2113.0</td>\n",
       "      <td>2111.0</td>\n",
       "    </tr>\n",
       "    <tr>\n",
       "      <th>134</th>\n",
       "      <td>10470</td>\n",
       "      <td>1541.0</td>\n",
       "      <td>1538.0</td>\n",
       "      <td>1531.0</td>\n",
       "      <td>1518.0</td>\n",
       "      <td>1493.0</td>\n",
       "      <td>1472.0</td>\n",
       "      <td>1455.0</td>\n",
       "      <td>1431.0</td>\n",
       "      <td>1416.0</td>\n",
       "      <td>...</td>\n",
       "      <td>1899.0</td>\n",
       "      <td>1909.0</td>\n",
       "      <td>1913.0</td>\n",
       "      <td>1914.0</td>\n",
       "      <td>1921.0</td>\n",
       "      <td>1927.0</td>\n",
       "      <td>1935.0</td>\n",
       "      <td>1934.0</td>\n",
       "      <td>1929.0</td>\n",
       "      <td>1934.0</td>\n",
       "    </tr>\n",
       "    <tr>\n",
       "      <th>135</th>\n",
       "      <td>10302</td>\n",
       "      <td>1362.0</td>\n",
       "      <td>1383.0</td>\n",
       "      <td>1397.0</td>\n",
       "      <td>1399.0</td>\n",
       "      <td>1386.0</td>\n",
       "      <td>1386.0</td>\n",
       "      <td>1391.0</td>\n",
       "      <td>1417.0</td>\n",
       "      <td>1447.0</td>\n",
       "      <td>...</td>\n",
       "      <td>1889.0</td>\n",
       "      <td>1882.0</td>\n",
       "      <td>1874.0</td>\n",
       "      <td>1869.0</td>\n",
       "      <td>1874.0</td>\n",
       "      <td>1895.0</td>\n",
       "      <td>1934.0</td>\n",
       "      <td>1982.0</td>\n",
       "      <td>1975.0</td>\n",
       "      <td>2010.0</td>\n",
       "    </tr>\n",
       "    <tr>\n",
       "      <th>136</th>\n",
       "      <td>11416</td>\n",
       "      <td>1517.0</td>\n",
       "      <td>1526.0</td>\n",
       "      <td>1532.0</td>\n",
       "      <td>1537.0</td>\n",
       "      <td>1540.0</td>\n",
       "      <td>1543.0</td>\n",
       "      <td>1554.0</td>\n",
       "      <td>1552.0</td>\n",
       "      <td>1551.0</td>\n",
       "      <td>...</td>\n",
       "      <td>2178.0</td>\n",
       "      <td>2179.0</td>\n",
       "      <td>2180.0</td>\n",
       "      <td>2183.0</td>\n",
       "      <td>2188.0</td>\n",
       "      <td>2189.0</td>\n",
       "      <td>2189.0</td>\n",
       "      <td>2200.0</td>\n",
       "      <td>2207.0</td>\n",
       "      <td>2211.0</td>\n",
       "    </tr>\n",
       "    <tr>\n",
       "      <th>137</th>\n",
       "      <td>11436</td>\n",
       "      <td>1489.0</td>\n",
       "      <td>1498.0</td>\n",
       "      <td>1497.0</td>\n",
       "      <td>1495.0</td>\n",
       "      <td>1489.0</td>\n",
       "      <td>1492.0</td>\n",
       "      <td>1503.0</td>\n",
       "      <td>1508.0</td>\n",
       "      <td>1511.0</td>\n",
       "      <td>...</td>\n",
       "      <td>2141.0</td>\n",
       "      <td>2138.0</td>\n",
       "      <td>2132.0</td>\n",
       "      <td>2121.0</td>\n",
       "      <td>2109.0</td>\n",
       "      <td>2094.0</td>\n",
       "      <td>2086.0</td>\n",
       "      <td>2084.0</td>\n",
       "      <td>2119.0</td>\n",
       "      <td>2115.0</td>\n",
       "    </tr>\n",
       "  </tbody>\n",
       "</table>\n",
       "<p>138 rows × 109 columns</p>\n",
       "</div>"
      ],
      "text/plain": [
       "       zip  2011-01  2011-02  2011-03  2011-04  2011-05  2011-06  2011-07  \\\n",
       "0    10025   2866.0   2828.0   2799.0   2791.0   2797.0   2823.0   2843.0   \n",
       "1    10023   2736.0   2675.0   2667.0   2680.0   2692.0   2707.0   2719.0   \n",
       "2    11226   1590.0   1570.0   1557.0   1549.0   1556.0   1578.0   1596.0   \n",
       "3    10467   1448.0   1443.0   1431.0   1425.0   1415.0   1405.0   1396.0   \n",
       "4    10016   2765.0   2692.0   2668.0   2669.0   2688.0   2709.0   2725.0   \n",
       "..     ...      ...      ...      ...      ...      ...      ...      ...   \n",
       "133  11429   1457.0   1463.0   1464.0   1470.0   1466.0   1474.0   1484.0   \n",
       "134  10470   1541.0   1538.0   1531.0   1518.0   1493.0   1472.0   1455.0   \n",
       "135  10302   1362.0   1383.0   1397.0   1399.0   1386.0   1386.0   1391.0   \n",
       "136  11416   1517.0   1526.0   1532.0   1537.0   1540.0   1543.0   1554.0   \n",
       "137  11436   1489.0   1498.0   1497.0   1495.0   1489.0   1492.0   1503.0   \n",
       "\n",
       "     2011-08  2011-09  ...  2019-03  2019-04  2019-05  2019-06  2019-07  \\\n",
       "0     2858.0   2882.0  ...   3467.0   3484.0   3523.0   3573.0   3622.0   \n",
       "1     2738.0   2759.0  ...   3457.0   3449.0   3459.0   3479.0   3491.0   \n",
       "2     1600.0   1599.0  ...   2018.0   2023.0   2028.0   2040.0   2054.0   \n",
       "3     1379.0   1367.0  ...   1777.0   1774.0   1778.0   1786.0   1792.0   \n",
       "4     2749.0   2767.0  ...   3503.0   3515.0   3529.0   3540.0   3543.0   \n",
       "..       ...      ...  ...      ...      ...      ...      ...      ...   \n",
       "133   1489.0   1495.0  ...   2139.0   2118.0   2107.0   2102.0   2087.0   \n",
       "134   1431.0   1416.0  ...   1899.0   1909.0   1913.0   1914.0   1921.0   \n",
       "135   1417.0   1447.0  ...   1889.0   1882.0   1874.0   1869.0   1874.0   \n",
       "136   1552.0   1551.0  ...   2178.0   2179.0   2180.0   2183.0   2188.0   \n",
       "137   1508.0   1511.0  ...   2141.0   2138.0   2132.0   2121.0   2109.0   \n",
       "\n",
       "     2019-08  2019-09  2019-10  2019-11  2019-12  \n",
       "0     3664.0   3698.0   3704.0   3692.0   3715.0  \n",
       "1     3510.0   3521.0   3574.0   3608.0   3561.0  \n",
       "2     2063.0   2073.0   2125.0   2098.0   2127.0  \n",
       "3     1803.0   1818.0   1847.0   1861.0   1860.0  \n",
       "4     3551.0   3569.0   3614.0   3576.0   3538.0  \n",
       "..       ...      ...      ...      ...      ...  \n",
       "133   2074.0   2070.0   2090.0   2113.0   2111.0  \n",
       "134   1927.0   1935.0   1934.0   1929.0   1934.0  \n",
       "135   1895.0   1934.0   1982.0   1975.0   2010.0  \n",
       "136   2189.0   2189.0   2200.0   2207.0   2211.0  \n",
       "137   2094.0   2086.0   2084.0   2119.0   2115.0  \n",
       "\n",
       "[138 rows x 109 columns]"
      ]
     },
     "execution_count": 814,
     "metadata": {},
     "output_type": "execute_result"
    }
   ],
   "source": [
    "zri"
   ]
  },
  {
   "cell_type": "code",
   "execution_count": 140,
   "metadata": {
    "scrolled": false
   },
   "outputs": [
    {
     "name": "stdout",
     "output_type": "stream",
     "text": [
      "File:  ../data/homezip-000000000001.csv\n",
      "1386\n",
      "File:  ../data/homezip-000000000000.csv\n",
      "1455\n",
      "File:  ../data/homezip-000000000002.csv\n",
      "1465\n",
      "File:  ../data/homezip-000000000003.csv\n",
      "1421\n",
      "File:  ../data/homezip-000000000007.csv\n",
      "1457\n",
      "File:  ../data/homezip-000000000012.csv\n",
      "1542\n",
      "File:  ../data/homezip-000000000006.csv\n",
      "1454\n",
      "File:  ../data/homezip-000000000010.csv\n",
      "1420\n",
      "File:  ../data/homezip-000000000004.csv\n",
      "1485\n",
      "File:  ../data/homezip-000000000005.csv\n",
      "1434\n",
      "File:  ../data/homezip-000000000011.csv\n",
      "1496\n",
      "File:  ../data/homezip-000000000008.csv\n",
      "1376\n",
      "File:  ../data/homezip-000000000009.csv\n",
      "1447\n"
     ]
    }
   ],
   "source": [
    "data = []\n",
    "\n",
    "import glob\n",
    "files = glob.glob('../data/homezip*')\n",
    "\n",
    "for i in range(len(files)):\n",
    "    print('File: ',files[i])\n",
    "    raw = pd.read_csv(files[i],\n",
    "                   dtype={'yyyymm':'object','home_zip':'object','employer_cnt':'object','ee_cnt':'object'})\n",
    "    print(np.sum(raw['home_zip'].isin(ny_zip['zip'])))\n",
    "    data.append(ny_zip.merge(raw,how='left',left_on='zip',right_on='home_zip'))"
   ]
  },
  {
   "cell_type": "code",
   "execution_count": 207,
   "metadata": {},
   "outputs": [
    {
     "data": {
      "text/plain": [
       "(18838, 247)"
      ]
     },
     "execution_count": 207,
     "metadata": {},
     "output_type": "execute_result"
    }
   ],
   "source": [
    "spark = pd.concat(data)\n",
    "spark.shape"
   ]
  },
  {
   "cell_type": "markdown",
   "metadata": {},
   "source": [
    "# Data Cleaning"
   ]
  },
  {
   "cell_type": "code",
   "execution_count": 158,
   "metadata": {},
   "outputs": [],
   "source": [
    "import seaborn as sns"
   ]
  },
  {
   "cell_type": "code",
   "execution_count": 297,
   "metadata": {},
   "outputs": [
    {
     "data": {
      "text/plain": [
       "<matplotlib.axes._subplots.AxesSubplot at 0x22f273210>"
      ]
     },
     "execution_count": 297,
     "metadata": {},
     "output_type": "execute_result"
    },
    {
     "data": {
      "image/png": "[encoded data removed]",
      "text/plain": [
       "<Figure size 432x288 with 1 Axes>"
      ]
     },
     "metadata": {
      "needs_background": "light"
     },
     "output_type": "display_data"
    }
   ],
   "source": [
    "missing = spark.isna().mean(axis=0)\n",
    "missing.hist(bins=10) "
   ]
  },
  {
   "cell_type": "code",
   "execution_count": 209,
   "metadata": {},
   "outputs": [],
   "source": [
    "spark = spark.loc[:,spark.columns[missing < 0.2]]"
   ]
  },
  {
   "cell_type": "code",
   "execution_count": 210,
   "metadata": {},
   "outputs": [
    {
     "data": {
      "text/plain": [
       "<matplotlib.axes._subplots.AxesSubplot at 0x22ccc8c50>"
      ]
     },
     "execution_count": 210,
     "metadata": {},
     "output_type": "execute_result"
    },
    {
     "data": {
      "image/png": "[encoded data removed]",
      "text/plain": [
       "<Figure size 432x288 with 1 Axes>"
      ]
     },
     "metadata": {
      "needs_background": "light"
     },
     "output_type": "display_data"
    }
   ],
   "source": [
    "missing = spark.isna().mean(axis=1)\n",
    "missing.hist(bins=10) "
   ]
  },
  {
   "cell_type": "code",
   "execution_count": 211,
   "metadata": {},
   "outputs": [
    {
     "name": "stdout",
     "output_type": "stream",
     "text": [
      "zip 10025\n",
      "yyyymm 201803\n",
      "home_zip 10025\n",
      "employer_cnt 2793\n",
      "ee_cnt 9046\n",
      "age_m 41.95\n",
      "age_16_17_cnt 7.0\n",
      "age_18_24_cnt 594.0\n",
      "age_25_34_cnt 2866.0\n",
      "age_35_54_cnt 3341.0\n",
      "age_55_64_cnt 1281.0\n",
      "age_65_p_cnt 664.0\n",
      "age_nt_cnt 293.0\n",
      "gender_cnt 9046.0\n",
      "mle_cnt 4346.0\n",
      "fem_cnt 4700.0\n",
      "gender_nt_cnt 0.0\n",
      "new_hire_fg_cnt 325.0\n",
      "tenure_m 6.23\n",
      "tenure_0_2yr_cnt 4654.0\n",
      "tenure_3_7yr_cnt 2016.0\n",
      "tenure_8yr_p_cnt 2323.0\n",
      "rate_type_cnt 9046.0\n",
      "rate_type_s_cnt 5646.0\n",
      "rate_type_d_cnt 28.0\n",
      "rate_type_hrly_cnt 3372.0\n",
      "pay_freq_cnt 9046.0\n",
      "pay_wkly_cnt 1533.0\n",
      "pay_bw_cnt 3688.0\n",
      "pay_sm_cnt 3330.0\n",
      "pay_mthly_cnt 487.0\n",
      "pay_d_cnt 7.0\n",
      "pay_5pt2wks_cnt 0.0\n",
      "pay_2pt6wks_cnt 0.0\n",
      "pay_4wks_cnt 1.0\n",
      "rate_amt_s_m 5754.15\n",
      "rate_amt_s_sd 4848.38\n",
      "rate_amt_s_10perc_value 1804.5\n",
      "rate_amt_s_25perc_value 2705.75\n",
      "rate_amt_s_50perc_value 4230.0\n",
      "rate_amt_s_75perc_value 7307.0\n",
      "rate_amt_s_90perc_value 11333.0\n",
      "rate_amt_hrly_m 31.24\n",
      "rate_amt_hrly_sd 29.35\n",
      "rate_amt_hrly_10perc_value 13.0\n",
      "rate_amt_hrly_25perc_value 14.0\n",
      "rate_amt_hrly_50perc_value 22.0\n",
      "rate_amt_hrly_75perc_value 33.0\n",
      "rate_amt_hrly_90perc_value 60.0\n",
      "rate_amt_d_m 285.2\n",
      "rate_amt_d_sd 212.73\n",
      "rate_amt_d_10perc_value 56.30000000000001\n",
      "rate_amt_d_25perc_value 145.0\n",
      "rate_amt_d_50perc_value 171.5\n",
      "rate_amt_d_75perc_value 500.0\n",
      "rate_amt_d_90perc_value 544.7\n",
      "full_tm_part_tm_cnt 9018.0\n",
      "pt_tm_cnt 1658.0\n",
      "full_tm_cnt 7360.0\n",
      "ot_hrs_m 5.04\n",
      "ot_hrs_sd 14.54\n",
      "ot_pay_m 191.72\n",
      "ot_pay_sd 570.29\n",
      "marital_st_cnt 9044.0\n",
      "md_cnt 2430.0\n",
      "sgl_cnt 6614.0\n",
      "net_pay_m 7975.77\n",
      "net_pay_sd 13782.21\n",
      "net_pay_10perc_value 1018.0\n",
      "net_pay_25perc_value 2531.25\n",
      "net_pay_50perc_value 4401.0\n",
      "net_pay_75perc_value 7674.0\n",
      "net_pay_90perc_value 14363.0\n",
      "gross_pay_m 14547.48\n",
      "gross_pay_sd 29491.84\n",
      "gross_pay_10perc_value 1320.0\n",
      "gross_pay_25perc_value 3675.0\n",
      "gross_pay_50perc_value 6941.5\n",
      "gross_pay_75perc_value 13101.5\n",
      "gross_pay_90perc_value 26250.0\n",
      "ann_gross_pay_obs_m 93501.51\n",
      "ann_gross_pay_obs_sd 100849.76\n",
      "ann_gross_pay_obs_10perc_value 8754.0\n",
      "ann_gross_pay_obs_25perc_value 31828.5\n",
      "ann_gross_pay_obs_50perc_value 65999.0\n",
      "ann_gross_pay_obs_75perc_value 120000.0\n",
      "ann_gross_pay_obs_90perc_value 206857.60000000006\n",
      "ann_gross_pay_proj_m 107898.36\n",
      "ann_gross_pay_proj_sd 94976.45\n",
      "ann_gross_pay_proj_10perc_value 28080.0\n",
      "ann_gross_pay_proj_25perc_value 47008.0\n",
      "ann_gross_pay_proj_50perc_value 78577.0\n",
      "ann_gross_pay_proj_75perc_value 136999.0\n",
      "ann_gross_pay_proj_90perc_value 225000.0\n",
      "ann_net_pay_obs_m 66278.48\n",
      "ann_net_pay_obs_sd 79981.39\n",
      "ann_net_pay_obs_10perc_value 6824.200000000003\n",
      "ann_net_pay_obs_25perc_value 22178.5\n",
      "ann_net_pay_obs_50perc_value 43739.0\n",
      "ann_net_pay_obs_75perc_value 76892.0\n",
      "ann_net_pay_obs_90perc_value 147914.2\n",
      "ann_net_pay_proj_m 64976.77\n",
      "ann_net_pay_proj_sd 52506.18\n",
      "ann_net_pay_proj_10perc_value 22669.1\n",
      "ann_net_pay_proj_25perc_value 32207.25\n",
      "ann_net_pay_proj_50perc_value 49381.0\n",
      "ann_net_pay_proj_75perc_value 79815.5\n",
      "ann_net_pay_proj_90perc_value 127141.40000000005\n",
      "ann_gross_pay_obs_mle_m 101011.77\n",
      "ann_gross_pay_obs_mle_sd 115328.01\n",
      "ann_gross_pay_obs_mle_10perc_value 8095.0\n",
      "ann_gross_pay_obs_mle_25perc_value 30989.5\n",
      "ann_gross_pay_obs_mle_50perc_value 66644.0\n",
      "ann_gross_pay_obs_mle_75perc_value 131046.0\n",
      "ann_gross_pay_obs_mle_90perc_value 233589.00000000003\n",
      "ann_gross_pay_obs_fem_m 80488.74\n",
      "ann_gross_pay_obs_fem_sd 84187.26\n",
      "ann_gross_pay_obs_fem_10perc_value 7024.0\n",
      "ann_gross_pay_obs_fem_25perc_value 24928.5\n",
      "ann_gross_pay_obs_fem_50perc_value 59166.0\n",
      "ann_gross_pay_obs_fem_75perc_value 106010.5\n",
      "ann_gross_pay_obs_fem_90perc_value 175333.2\n",
      "ann_gross_pay_obs_mle_s_m 133164.48\n",
      "ann_gross_pay_obs_mle_hrly_m 47347.87\n",
      "ann_gross_pay_obs_fem_s_m 102632.95\n",
      "ann_gross_pay_obs_fem_hrly_m 41498.72\n",
      "ann_gross_pay_proj_mle_m 117072.59\n",
      "ann_gross_pay_proj_fem_m 99420.97\n",
      "ann_gross_pay_proj_mle_s_m 149337.32\n",
      "ann_gross_pay_proj_mle_hrly_m 65157.46\n",
      "ann_gross_pay_proj_fem_s_m 119343.33\n",
      "ann_gross_pay_proj_fem_hrly_m 64801.21\n",
      "bonus_m 18376.64\n",
      "bonus_sd 40845.61\n",
      "ann_bonus_m 46250.3\n",
      "ann_bonus_sd 106297.47\n",
      "reg_pay_m 3408.13\n",
      "reg_pay_sd 3476.99\n",
      "reg_hrs_m 117.05\n",
      "reg_hrs_sd 68.93\n",
      "gen_cnt 9046.0\n",
      "silent_gen_cnt 116.0\n",
      "gen_bb_cnt 2000.0\n",
      "gen_x_cnt 2515.0\n",
      "gen_y_cnt 4122.0\n",
      "gen_nt_cnt 293.0\n",
      "ann_gross_pay_obs_silent_gen_m 82210.33\n",
      "ann_gross_pay_obs_mle_silent_gen_m 110385.54\n",
      "ann_gross_pay_obs_fem_silent_gen_m 59317.96\n",
      "ann_gross_pay_obs_gen_bb_m 111468.57\n",
      "ann_gross_pay_obs_mle_gen_bb_m 119897.91\n",
      "ann_gross_pay_obs_fem_gen_bb_m 103021.8\n",
      "ann_gross_pay_obs_gen_x_m 123241.44\n",
      "ann_gross_pay_obs_mle_gen_x_m 140829.75\n",
      "ann_gross_pay_obs_fem_gen_x_m 107242.01\n",
      "ann_gross_pay_obs_gen_y_m 61376.33\n",
      "ann_gross_pay_obs_mle_gen_y_m 67454.67\n",
      "ann_gross_pay_obs_fem_gen_y_m 56246.28\n",
      "ann_gross_pay_proj_silent_gen_m 115842.13\n",
      "ann_gross_pay_proj_mle_silent_gen_m 130317.87\n",
      "ann_gross_pay_proj_fem_silent_gen_m 103701.2\n",
      "ann_gross_pay_proj_gen_bb_m 129674.84\n",
      "ann_gross_pay_proj_mle_gen_bb_m 136244.89\n",
      "ann_gross_pay_proj_fem_gen_bb_m 122998.39\n",
      "ann_gross_pay_proj_gen_x_m 138521.47\n",
      "ann_gross_pay_proj_mle_gen_x_m 152650.98\n",
      "ann_gross_pay_proj_fem_gen_x_m 125527.08\n",
      "ann_gross_pay_proj_gen_y_m 80681.78\n",
      "ann_gross_pay_proj_mle_gen_y_m 86885.03\n",
      "ann_gross_pay_proj_fem_gen_y_m 75394.64\n",
      "tenure_silent_gen_m 20.26\n",
      "tenure_mle_silent_gen_m 22.24\n",
      "tenure_fem_silent_gen_m 18.65\n",
      "tenure_gen_bb_m 12.03\n",
      "tenure_mle_gen_bb_m 12.31\n",
      "tenure_fem_gen_bb_m 11.74\n",
      "tenure_gen_x_m 6.94\n",
      "tenure_mle_gen_x_m 7.01\n",
      "tenure_fem_gen_x_m 6.86\n",
      "tenure_gen_y_m 2.28\n",
      "tenure_mle_gen_y_m 2.36\n",
      "tenure_fem_gen_y_m 2.21\n",
      "reg_temp_cnt 8545.0\n",
      "reg_cnt 8413.0\n",
      "temp_cnt 132.0\n",
      "reg_temp_nt_cnt 501.0\n",
      "ann_lvl_income_cnt 9018.0\n",
      "ann_lvl_below_10k_cnt 58.0\n",
      "ann_lvl_ent_cnt 1014.0\n",
      "ann_lvl_mid_cnt 1498.0\n",
      "ann_lvl_upr_mid_cnt 2040.0\n",
      "ann_lvl_high_cnt 957.0\n",
      "ann_lvl_six_fig_cnt 3451.0\n",
      "ann_lvl_income_nt_cnt 28.0\n",
      "tenure_ann_lvl_below_10k_m 6.49\n",
      "tenure_mle_ann_lvl_below_10k_m 6.06\n",
      "tenure_fem_ann_lvl_below_10k_m 6.69\n",
      "tenure_ann_lvl_ent_m 3.01\n",
      "tenure_mle_ann_lvl_ent_m 3.08\n",
      "tenure_fem_ann_lvl_ent_m 2.95\n",
      "tenure_ann_lvl_mid_m 5.33\n",
      "tenure_mle_ann_lvl_mid_m 6.34\n",
      "tenure_fem_ann_lvl_mid_m 4.38\n",
      "tenure_ann_lvl_upr_mid_m 5.83\n",
      "tenure_mle_ann_lvl_upr_mid_m 6.79\n",
      "tenure_fem_ann_lvl_upr_mid_m 5.08\n",
      "tenure_ann_lvl_high_m 6.12\n",
      "tenure_mle_ann_lvl_high_m 5.67\n",
      "tenure_fem_ann_lvl_high_m 6.48\n",
      "tenure_ann_lvl_six_fig_m 7.85\n",
      "tenure_mle_ann_lvl_six_fig_m 7.76\n",
      "tenure_fem_ann_lvl_six_fig_m 7.95\n",
      "age_ann_lvl_below_10k_m 40.66\n",
      "age_mle_ann_lvl_below_10k_m 42.5\n",
      "age_fem_ann_lvl_below_10k_m 39.55\n",
      "age_ann_lvl_ent_m 37.22\n",
      "age_mle_ann_lvl_ent_m 37.89\n",
      "age_fem_ann_lvl_ent_m 36.63\n",
      "age_ann_lvl_mid_m 39.12\n",
      "age_mle_ann_lvl_mid_m 40.48\n",
      "age_fem_ann_lvl_mid_m 37.88\n",
      "age_ann_lvl_upr_mid_m 39.43\n",
      "age_mle_ann_lvl_upr_mid_m 40.98\n",
      "age_fem_ann_lvl_upr_mid_m 38.24\n",
      "age_ann_lvl_high_m 41.12\n",
      "age_mle_ann_lvl_high_m 39.52\n",
      "age_fem_ann_lvl_high_m 42.43\n",
      "age_ann_lvl_six_fig_m 46.13\n",
      "age_mle_ann_lvl_six_fig_m 45.91\n",
      "age_fem_ann_lvl_six_fig_m 46.35\n",
      "tenure_mle_m 6.57\n",
      "tenure_fem_m 5.92\n",
      "tenure_mle_hrly_m 6.61\n",
      "tenure_mle_s_m 6.57\n",
      "tenure_fem_hrly_m 5.16\n",
      "tenure_fem_s_m 6.36\n"
     ]
    }
   ],
   "source": [
    "for i in range(len(spark.columns)):\n",
    "    print(spark.columns[i],spark.iloc[0,i])"
   ]
  },
  {
   "cell_type": "code",
   "execution_count": 802,
   "metadata": {},
   "outputs": [
    {
     "name": "stdout",
     "output_type": "stream",
     "text": [
      "10001 (137, 236)\n",
      "10003 (137, 236)\n",
      "10005 (137, 236)\n",
      "10009 (137, 236)\n",
      "10010 (137, 236)\n",
      "10011 (137, 236)\n",
      "10012 (137, 236)\n",
      "10013 (137, 236)\n",
      "10014 (137, 236)\n",
      "10016 (137, 236)\n",
      "10017 (137, 236)\n",
      "10018 (137, 236)\n",
      "10019 (137, 236)\n",
      "10021 (137, 236)\n",
      "10022 (137, 236)\n",
      "10023 (137, 236)\n",
      "10024 (137, 236)\n",
      "10025 (137, 236)\n",
      "10027 (137, 236)\n",
      "10028 (137, 236)\n",
      "10029 (137, 236)\n",
      "10031 (137, 236)\n",
      "10036 (137, 236)\n",
      "10038 (137, 236)\n",
      "10065 (137, 236)\n",
      "10075 (137, 236)\n",
      "10128 (137, 236)\n",
      "10301 (137, 236)\n",
      "10302 (137, 236)\n",
      "10303 (137, 236)\n",
      "10304 (137, 236)\n",
      "10305 (137, 236)\n",
      "10306 (137, 236)\n",
      "10308 (137, 236)\n",
      "10310 (137, 236)\n",
      "10312 (137, 236)\n",
      "10314 (137, 236)\n",
      "10453 (137, 236)\n",
      "10456 (137, 236)\n",
      "10457 (137, 236)\n",
      "10458 (137, 236)\n",
      "10459 (137, 236)\n",
      "10460 (137, 236)\n",
      "10461 (137, 236)\n",
      "10462 (137, 236)\n",
      "10463 (137, 236)\n",
      "10465 (137, 236)\n",
      "10466 (137, 236)\n",
      "10467 (137, 236)\n",
      "10469 (137, 236)\n",
      "10470 (137, 236)\n",
      "10472 (137, 236)\n",
      "10473 (137, 236)\n",
      "11101 (137, 236)\n",
      "11102 (137, 236)\n",
      "11103 (137, 236)\n",
      "11104 (137, 236)\n",
      "11105 (137, 236)\n",
      "11106 (137, 236)\n",
      "11201 (137, 236)\n",
      "11203 (137, 236)\n",
      "11204 (137, 236)\n",
      "11205 (137, 236)\n",
      "11206 (137, 236)\n",
      "11207 (137, 236)\n",
      "11208 (137, 236)\n",
      "11209 (137, 236)\n",
      "11210 (137, 236)\n",
      "11211 (137, 236)\n",
      "11212 (137, 236)\n",
      "11213 (137, 236)\n",
      "11214 (137, 236)\n",
      "11215 (137, 236)\n",
      "11216 (137, 236)\n",
      "11217 (137, 236)\n",
      "11218 (137, 236)\n",
      "11219 (137, 236)\n",
      "11220 (137, 236)\n",
      "11221 (137, 236)\n",
      "11222 (137, 236)\n",
      "11223 (137, 236)\n",
      "11225 (137, 236)\n",
      "11226 (137, 236)\n",
      "11228 (137, 236)\n",
      "11229 (137, 236)\n",
      "11230 (137, 236)\n",
      "11231 (137, 236)\n",
      "11232 (137, 236)\n",
      "11233 (137, 236)\n",
      "11234 (137, 236)\n",
      "11235 (137, 236)\n",
      "11236 (137, 236)\n",
      "11237 (137, 236)\n",
      "11238 (137, 236)\n",
      "11249 (69, 236)\n",
      "11354 (137, 236)\n",
      "11355 (137, 236)\n",
      "11356 (137, 236)\n",
      "11357 (137, 236)\n",
      "11358 (137, 236)\n",
      "11360 (137, 236)\n",
      "11361 (137, 236)\n",
      "11364 (137, 236)\n",
      "11365 (137, 236)\n",
      "11367 (137, 236)\n",
      "11368 (137, 236)\n",
      "11369 (137, 236)\n",
      "11370 (137, 236)\n",
      "11372 (137, 236)\n",
      "11373 (137, 236)\n",
      "11374 (137, 236)\n",
      "11375 (137, 236)\n",
      "11377 (137, 236)\n",
      "11378 (137, 236)\n",
      "11379 (137, 236)\n",
      "11385 (137, 236)\n",
      "11412 (137, 236)\n",
      "11413 (137, 236)\n",
      "11414 (137, 236)\n",
      "11415 (137, 236)\n",
      "11416 (137, 236)\n",
      "11417 (137, 236)\n",
      "11418 (137, 236)\n",
      "11419 (137, 236)\n",
      "11420 (137, 236)\n",
      "11421 (137, 236)\n",
      "11422 (137, 236)\n",
      "11423 (137, 236)\n",
      "11427 (137, 236)\n",
      "11429 (137, 236)\n",
      "11432 (137, 236)\n",
      "11433 (137, 236)\n",
      "11434 (137, 236)\n",
      "11435 (137, 236)\n",
      "11436 (137, 236)\n",
      "11691 (137, 236)\n",
      "11692 (137, 236)\n",
      "11694 (137, 236)\n"
     ]
    }
   ],
   "source": [
    "groupby = spark.groupby('zip')\n",
    "for key, group in groupby:\n",
    "    print(key,group.shape)"
   ]
  },
  {
   "cell_type": "code",
   "execution_count": 803,
   "metadata": {},
   "outputs": [],
   "source": [
    "comb = []\n",
    "\n",
    "for key, group in groupby:\n",
    "    if group.shape[0] == 137:\n",
    "        zipcode = key\n",
    "        \n",
    "        spark_one = group.sort_values('yyyymm')\n",
    "        spark_one['year'] = spark_one['yyyymm'].map(lambda t: int(t[:4]))\n",
    "        spark_one['month'] = spark_one['yyyymm'].map(lambda t: int(t[-2:]))\n",
    "        spark_one['yyyymm'] = spark_one['yyyymm'].map(lambda m: m[:4]+'-'+m[4:])\n",
    "        spark_one = spark_one.drop(['home_zip'],axis=1).rename(columns={'yyyymm':'time'}).set_index(['time','zip'])\n",
    "        spark_one = spark_one.astype({'employer_cnt':'float64','ee_cnt':'float64'})\n",
    "        spark_one = spark_one.interpolate(method='linear',limit_direction='both', axis=0)\n",
    "\n",
    "        zri_one = zri[zri['zip'] == zipcode].set_index('zip').T.reset_index()\n",
    "        zri_one['zip'] = zipcode\n",
    "        zri_one.columns = ['time','zri','zip']\n",
    "        zri_one = zri_one.set_index(['time','zip'])\n",
    "\n",
    "        comb_one = spark_one.merge(zri_one,left_on = ['time','zip'],right_on = ['time','zip'], how='inner')\n",
    "        comb.append(comb_one)"
   ]
  },
  {
   "cell_type": "code",
   "execution_count": 804,
   "metadata": {},
   "outputs": [],
   "source": [
    "full = pd.concat(comb,axis=0).sort_index()"
   ]
  },
  {
   "cell_type": "code",
   "execution_count": 813,
   "metadata": {},
   "outputs": [],
   "source": [
    "full.to_csv('../data/ny_zri_adp.csv')"
   ]
  },
  {
   "cell_type": "code",
   "execution_count": 805,
   "metadata": {},
   "outputs": [],
   "source": [
    "test = full.loc[(slice('2019-01','2019-09'),slice(None)),:]\n",
    "train = full.loc[(slice('2018-12'),slice(None)),:]"
   ]
  },
  {
   "cell_type": "code",
   "execution_count": 806,
   "metadata": {},
   "outputs": [],
   "source": [
    "X_train = train.iloc[:,:-1]\n",
    "X_test = test.iloc[:,:-1]\n",
    "y_train = train.iloc[:,-1]\n",
    "y_test = test.iloc[:,-1]"
   ]
  },
  {
   "cell_type": "markdown",
   "metadata": {},
   "source": [
    "# Normalization"
   ]
  },
  {
   "cell_type": "markdown",
   "metadata": {},
   "source": [
    "Normalization is needed for regularized models like Ridge and Lasso."
   ]
  },
  {
   "cell_type": "code",
   "execution_count": 407,
   "metadata": {},
   "outputs": [],
   "source": [
    "from sklearn.preprocessing import StandardScaler"
   ]
  },
  {
   "cell_type": "code",
   "execution_count": 408,
   "metadata": {},
   "outputs": [],
   "source": [
    "scl = StandardScaler()\n",
    "scl = scl.fit(X_train)"
   ]
  },
  {
   "cell_type": "code",
   "execution_count": 409,
   "metadata": {},
   "outputs": [],
   "source": [
    "X_train_scl = pd.DataFrame(scl.transform(X_train),columns=X_train.columns,index=X_train.index)\n",
    "X_test_scl = pd.DataFrame(scl.transform(X_test),columns=X_test.columns,index=X_test.index)"
   ]
  },
  {
   "cell_type": "markdown",
   "metadata": {},
   "source": [
    "# Build Models"
   ]
  },
  {
   "cell_type": "markdown",
   "metadata": {},
   "source": [
    "## Linear Model"
   ]
  },
  {
   "cell_type": "code",
   "execution_count": 432,
   "metadata": {},
   "outputs": [],
   "source": [
    "from sklearn.linear_model import LinearRegression\n",
    "from sklearn.inspection import permutation_importance"
   ]
  },
  {
   "cell_type": "code",
   "execution_count": 421,
   "metadata": {},
   "outputs": [
    {
     "data": {
      "text/plain": [
       "LinearRegression(copy_X=True, fit_intercept=True, n_jobs=None, normalize=False)"
      ]
     },
     "execution_count": 421,
     "metadata": {},
     "output_type": "execute_result"
    }
   ],
   "source": [
    "lm = LinearRegression()\n",
    "lm.fit(X_train,y_train)"
   ]
  },
  {
   "cell_type": "code",
   "execution_count": 688,
   "metadata": {
    "scrolled": false
   },
   "outputs": [
    {
     "name": "stdout",
     "output_type": "stream",
     "text": [
      "RMSE, train:  135.1616845017236\n",
      "RMSE, test:  219.228800452233\n",
      "R^2, train:  0.9601439436465362\n",
      "R^2, test:  0.8690513862712224\n"
     ]
    }
   ],
   "source": [
    "evaluate(X_train,y_train,X_test,y_test,lm)"
   ]
  },
  {
   "cell_type": "code",
   "execution_count": 689,
   "metadata": {
    "scrolled": true
   },
   "outputs": [
    {
     "data": {
      "image/png": "[encoded data removed]",
      "text/plain": [
       "<Figure size 1080x360 with 2 Axes>"
      ]
     },
     "metadata": {
      "needs_background": "light"
     },
     "output_type": "display_data"
    }
   ],
   "source": [
    "plot_residual(X_test,y_test,lm)"
   ]
  },
  {
   "cell_type": "code",
   "execution_count": 485,
   "metadata": {},
   "outputs": [],
   "source": [
    "impt_lm = permutation_importance(lm, X_train, y_train, n_repeats=10,\n",
    "                                random_state=42)"
   ]
  },
  {
   "cell_type": "code",
   "execution_count": 691,
   "metadata": {
    "scrolled": false
   },
   "outputs": [],
   "source": [
    "# perm_sorted_idx = impt_lm.importances_mean.argsort()[-10:]\n",
    "# # plt.figure(figsize=(6,6))\n",
    "# plt.boxplot(impt_lm.importances[perm_sorted_idx].T, vert=False,\n",
    "#             labels=X_train.columns[perm_sorted_idx])\n",
    "# # plt.title('Lasso Feature Importance')\n",
    "# # plt.xlabel('R^2')\n",
    "# # plt.savefig('../fig/lasso_top10.png')"
   ]
  },
  {
   "cell_type": "code",
   "execution_count": 690,
   "metadata": {},
   "outputs": [
    {
     "name": "stdout",
     "output_type": "stream",
     "text": [
      "                          Feature  Importance\n",
      "0                  marital_st_cnt   90.516184\n",
      "1             ann_gross_pay_obs_m   34.072789\n",
      "2       ann_gross_pay_obs_gen_y_m   19.817881\n",
      "3      ann_gross_pay_proj_gen_y_m   17.915987\n",
      "4      ann_gross_pay_proj_gen_x_m   13.367018\n",
      "5                         sgl_cnt   12.487502\n",
      "6       ann_gross_pay_obs_gen_x_m   10.433432\n",
      "7                      pay_sm_cnt    8.300127\n",
      "8  ann_gross_pay_proj_mle_gen_y_m    7.753396\n",
      "9   ann_gross_pay_obs_mle_gen_y_m    7.524511\n"
     ]
    }
   ],
   "source": [
    "get_importance(X_train.columns,impt_lm.importances_mean)"
   ]
  },
  {
   "cell_type": "markdown",
   "metadata": {},
   "source": [
    "# Ridge"
   ]
  },
  {
   "cell_type": "code",
   "execution_count": null,
   "metadata": {},
   "outputs": [],
   "source": [
    "from sklearn.linear_model import Ridge\n",
    "from sklearn.model_selection import GridSearchCV\n",
    "from sklearn.inspection import permutation_importance"
   ]
  },
  {
   "cell_type": "markdown",
   "metadata": {},
   "source": [
    "# Lasso"
   ]
  },
  {
   "cell_type": "code",
   "execution_count": 426,
   "metadata": {},
   "outputs": [],
   "source": [
    "from sklearn.linear_model import Lasso\n",
    "from sklearn.model_selection import GridSearchCV\n",
    "from sklearn.inspection import permutation_importance"
   ]
  },
  {
   "cell_type": "code",
   "execution_count": 694,
   "metadata": {},
   "outputs": [
    {
     "name": "stdout",
     "output_type": "stream",
     "text": [
      "CPU times: user 5min 41s, sys: 31.6 s, total: 6min 13s\n",
      "Wall time: 3min 17s\n"
     ]
    },
    {
     "data": {
      "text/plain": [
       "Lasso(alpha=0.1, copy_X=True, fit_intercept=True, max_iter=100000,\n",
       "      normalize=False, positive=False, precompute=False, random_state=None,\n",
       "      selection='cyclic', tol=0.0001, warm_start=False)"
      ]
     },
     "execution_count": 694,
     "metadata": {},
     "output_type": "execute_result"
    }
   ],
   "source": [
    "lasso = Lasso(max_iter=100000, alpha=0.1)\n",
    "\n",
    "# alpha = 10**np.linspace(-8,0,50)\n",
    "# alpha = [0.01]\n",
    "# params = {'alpha': alpha}\n",
    "# grid_search_lasso = GridSearchCV( estimator=lasso, param_grid=params )\n",
    "# grid_search_lasso.fit(X_train_scl,y_train)\n",
    "\n",
    "%time lasso.fit(X_train_scl,y_train)"
   ]
  },
  {
   "cell_type": "code",
   "execution_count": 695,
   "metadata": {},
   "outputs": [
    {
     "name": "stdout",
     "output_type": "stream",
     "text": [
      "RMSE, train:  140.48497163584582\n",
      "RMSE, test:  264.1152212072807\n",
      "R^2, train:  0.9569426924512857\n",
      "R^2, test:  0.8099392006222075\n"
     ]
    }
   ],
   "source": [
    "evaluate(X_train_scl,y_train,X_test_scl,y_test,lasso)"
   ]
  },
  {
   "cell_type": "markdown",
   "metadata": {},
   "source": [
    "GridSearchCV can't converge. Use lasso directly instead. It turns out using 0.01 will not converge.\n",
    "\n",
    "- $\\alpha = 1$:\n",
    " - R^2, train:  0.9459202937751144\n",
    " - R^2, test:  0.7787490839159582\n",
    "\n",
    "- $\\alpha = 0.1$:\n",
    " - R^2, train:  0.9569426924512857\n",
    " - R^2, test:  0.8099392006222075"
   ]
  },
  {
   "cell_type": "markdown",
   "metadata": {},
   "source": [
    "# Gradient Boosting"
   ]
  },
  {
   "cell_type": "code",
   "execution_count": 696,
   "metadata": {},
   "outputs": [],
   "source": [
    "from sklearn.ensemble import GradientBoostingRegressor"
   ]
  },
  {
   "cell_type": "code",
   "execution_count": 700,
   "metadata": {},
   "outputs": [
    {
     "data": {
      "text/plain": [
       "GradientBoostingRegressor(alpha=0.9, ccp_alpha=0.0, criterion='friedman_mse',\n",
       "                          init=None, learning_rate=0.1, loss='ls', max_depth=3,\n",
       "                          max_features=None, max_leaf_nodes=None,\n",
       "                          min_impurity_decrease=0.0, min_impurity_split=None,\n",
       "                          min_samples_leaf=1, min_samples_split=2,\n",
       "                          min_weight_fraction_leaf=0.0, n_estimators=100,\n",
       "                          n_iter_no_change=None, presort='deprecated',\n",
       "                          random_state=None, subsample=1.0, tol=0.0001,\n",
       "                          validation_fraction=0.1, verbose=0, warm_start=False)"
      ]
     },
     "execution_count": 700,
     "metadata": {},
     "output_type": "execute_result"
    }
   ],
   "source": [
    "gb = GradientBoostingRegressor()\n",
    "gb.fit(X_train,y_train)"
   ]
  },
  {
   "cell_type": "code",
   "execution_count": 701,
   "metadata": {},
   "outputs": [
    {
     "name": "stdout",
     "output_type": "stream",
     "text": [
      "RMSE, train:  105.16054091109544\n",
      "RMSE, test:  150.69925574365362\n",
      "R^2, train:  0.9758735871326745\n",
      "R^2, test:  0.9381231915574698\n"
     ]
    }
   ],
   "source": [
    "evaluate(X_train,y_train,X_test,y_test,gb)"
   ]
  },
  {
   "cell_type": "code",
   "execution_count": 697,
   "metadata": {
    "scrolled": true
   },
   "outputs": [
    {
     "name": "stdout",
     "output_type": "stream",
     "text": [
      "CPU times: user 17min 54s, sys: 2.75 s, total: 17min 57s\n",
      "Wall time: 18min 8s\n"
     ]
    },
    {
     "data": {
      "text/plain": [
       "GridSearchCV(cv=None, error_score=nan,\n",
       "             estimator=GradientBoostingRegressor(alpha=0.9, ccp_alpha=0.0,\n",
       "                                                 criterion='friedman_mse',\n",
       "                                                 init=None, learning_rate=0.1,\n",
       "                                                 loss='ls', max_depth=3,\n",
       "                                                 max_features=None,\n",
       "                                                 max_leaf_nodes=None,\n",
       "                                                 min_impurity_decrease=0.0,\n",
       "                                                 min_impurity_split=None,\n",
       "                                                 min_samples_leaf=1,\n",
       "                                                 min_samples_split=2,\n",
       "                                                 min_weight_fraction_leaf=0.0,\n",
       "                                                 n_estimators=100,\n",
       "                                                 n_iter_no_change=None,\n",
       "                                                 presort='deprecated',\n",
       "                                                 random_state=None,\n",
       "                                                 subsample=1.0, tol=0.0001,\n",
       "                                                 validation_fraction=0.1,\n",
       "                                                 verbose=0, warm_start=False),\n",
       "             iid='deprecated', n_jobs=None,\n",
       "             param_grid={'learning_rate': [0.05], 'max_depth': [3],\n",
       "                         'n_estimators': [300]},\n",
       "             pre_dispatch='2*n_jobs', refit=True, return_train_score=False,\n",
       "             scoring=None, verbose=0)"
      ]
     },
     "execution_count": 697,
     "metadata": {},
     "output_type": "execute_result"
    }
   ],
   "source": [
    "estimator = GradientBoostingRegressor()\n",
    "\n",
    "max_depth = [3]\n",
    "n_estimators = [300]\n",
    "learning_rate = [0.05]\n",
    "\n",
    "params = {'max_depth':max_depth,'n_estimators':n_estimators,'learning_rate':learning_rate}\n",
    "grid_search_gb= GridSearchCV( estimator=estimator, param_grid=params )\n",
    "%time grid_search_gb.fit(X_train,y_train)"
   ]
  },
  {
   "cell_type": "code",
   "execution_count": 699,
   "metadata": {},
   "outputs": [
    {
     "name": "stdout",
     "output_type": "stream",
     "text": [
      "RMSE, train:  88.13558821197837\n",
      "RMSE, test:  137.8811456424044\n",
      "R^2, train:  0.983053120263371\n",
      "R^2, test:  0.9482017059621521\n"
     ]
    }
   ],
   "source": [
    "evaluate(X_train,y_train,X_test,y_test,grid_search_gb)"
   ]
  },
  {
   "cell_type": "code",
   "execution_count": 702,
   "metadata": {
    "scrolled": true
   },
   "outputs": [
    {
     "name": "stdout",
     "output_type": "stream",
     "text": [
      "                          Feature  Importance\n",
      "0  ann_gross_pay_proj_mle_gen_x_m    0.308105\n",
      "1  ann_gross_pay_proj_mle_gen_y_m    0.121263\n",
      "2      ann_gross_pay_proj_gen_x_m    0.075786\n",
      "3         rate_amt_s_90perc_value    0.067935\n",
      "4                     ann_bonus_m    0.065319\n",
      "5    tenure_fem_ann_lvl_upr_mid_m    0.061531\n",
      "6       ann_gross_pay_obs_gen_x_m    0.049392\n",
      "7            tenure_ann_lvl_mid_m    0.023731\n",
      "8                         reg_cnt    0.016404\n",
      "9                    reg_temp_cnt    0.014046\n"
     ]
    }
   ],
   "source": [
    "get_importance(X_train.columns,grid_search_gb.best_estimator_.feature_importances_)"
   ]
  },
  {
   "cell_type": "code",
   "execution_count": 753,
   "metadata": {},
   "outputs": [
    {
     "data": {
      "text/plain": [
       "<matplotlib.collections.PathCollection at 0x2303c3290>"
      ]
     },
     "execution_count": 753,
     "metadata": {},
     "output_type": "execute_result"
    },
    {
     "data": {
      "image/png": "[encoded data removed]",
      "text/plain": [
       "<Figure size 480x360 with 1 Axes>"
      ]
     },
     "metadata": {
      "needs_background": "light"
     },
     "output_type": "display_data"
    }
   ],
   "source": [
    "plt.figure(figsize=(4,3))\n",
    "plt.scatter(y_train,X_train['age_ann_lvl_upr_mid_m'])"
   ]
  },
  {
   "cell_type": "markdown",
   "metadata": {},
   "source": [
    "GridSearchCV uses 5 foled cross validation and refit using the best parameters. So it runs much slower. For now, we want to identify the most important features, not achieve the best fitting result, so GridSearchCV is not necessary."
   ]
  },
  {
   "cell_type": "code",
   "execution_count": 720,
   "metadata": {},
   "outputs": [
    {
     "data": {
      "image/png": "[encoded data removed]",
      "text/plain": [
       "<Figure size 1080x360 with 2 Axes>"
      ]
     },
     "metadata": {
      "needs_background": "light"
     },
     "output_type": "display_data"
    }
   ],
   "source": [
    "plot_residual(X_test,y_test,gb)"
   ]
  },
  {
   "cell_type": "markdown",
   "metadata": {},
   "source": [
    "# Difference Among Boros"
   ]
  },
  {
   "cell_type": "code",
   "execution_count": 673,
   "metadata": {},
   "outputs": [],
   "source": [
    "boros_gb = region.groupby('CountyName')"
   ]
  },
  {
   "cell_type": "code",
   "execution_count": 738,
   "metadata": {},
   "outputs": [
    {
     "data": {
      "text/html": [
       "<div>\n",
       "<style scoped>\n",
       "    .dataframe tbody tr th:only-of-type {\n",
       "        vertical-align: middle;\n",
       "    }\n",
       "\n",
       "    .dataframe tbody tr th {\n",
       "        vertical-align: top;\n",
       "    }\n",
       "\n",
       "    .dataframe thead th {\n",
       "        text-align: right;\n",
       "    }\n",
       "</style>\n",
       "<table border=\"1\" class=\"dataframe\">\n",
       "  <thead>\n",
       "    <tr style=\"text-align: right;\">\n",
       "      <th></th>\n",
       "      <th>zip</th>\n",
       "      <th>RegionID</th>\n",
       "      <th>City</th>\n",
       "      <th>State</th>\n",
       "      <th>Metro</th>\n",
       "      <th>SizeRank</th>\n",
       "    </tr>\n",
       "    <tr>\n",
       "      <th>CountyName</th>\n",
       "      <th></th>\n",
       "      <th></th>\n",
       "      <th></th>\n",
       "      <th></th>\n",
       "      <th></th>\n",
       "      <th></th>\n",
       "    </tr>\n",
       "  </thead>\n",
       "  <tbody>\n",
       "    <tr>\n",
       "      <th>Bronx County</th>\n",
       "      <td>15</td>\n",
       "      <td>15</td>\n",
       "      <td>15</td>\n",
       "      <td>15</td>\n",
       "      <td>15</td>\n",
       "      <td>15</td>\n",
       "    </tr>\n",
       "    <tr>\n",
       "      <th>Kings County</th>\n",
       "      <td>36</td>\n",
       "      <td>36</td>\n",
       "      <td>36</td>\n",
       "      <td>36</td>\n",
       "      <td>36</td>\n",
       "      <td>36</td>\n",
       "    </tr>\n",
       "    <tr>\n",
       "      <th>New York County</th>\n",
       "      <td>31</td>\n",
       "      <td>31</td>\n",
       "      <td>31</td>\n",
       "      <td>31</td>\n",
       "      <td>31</td>\n",
       "      <td>31</td>\n",
       "    </tr>\n",
       "    <tr>\n",
       "      <th>Queens County</th>\n",
       "      <td>46</td>\n",
       "      <td>46</td>\n",
       "      <td>46</td>\n",
       "      <td>46</td>\n",
       "      <td>46</td>\n",
       "      <td>46</td>\n",
       "    </tr>\n",
       "    <tr>\n",
       "      <th>Richmond County</th>\n",
       "      <td>10</td>\n",
       "      <td>10</td>\n",
       "      <td>10</td>\n",
       "      <td>10</td>\n",
       "      <td>10</td>\n",
       "      <td>10</td>\n",
       "    </tr>\n",
       "  </tbody>\n",
       "</table>\n",
       "</div>"
      ],
      "text/plain": [
       "                 zip  RegionID  City  State  Metro  SizeRank\n",
       "CountyName                                                  \n",
       "Bronx County      15        15    15     15     15        15\n",
       "Kings County      36        36    36     36     36        36\n",
       "New York County   31        31    31     31     31        31\n",
       "Queens County     46        46    46     46     46        46\n",
       "Richmond County   10        10    10     10     10        10"
      ]
     },
     "execution_count": 738,
     "metadata": {},
     "output_type": "execute_result"
    }
   ],
   "source": [
    "boros_gb.count()"
   ]
  },
  {
   "cell_type": "code",
   "execution_count": 674,
   "metadata": {},
   "outputs": [],
   "source": [
    "def get_mask(boro_name):\n",
    "    zipcodes = region.loc[boros_gb.groups[boro_name],'zip'].tolist()\n",
    "    mask_train = X_train.index.map(lambda idx: idx[1] in zipcodes)\n",
    "    mask_test = X_test.index.map(lambda idx: idx[1] in zipcodes)\n",
    "    return(mask_train,mask_test)"
   ]
  },
  {
   "cell_type": "code",
   "execution_count": 675,
   "metadata": {},
   "outputs": [],
   "source": [
    "def evaluate(data_X_train,data_y_train,data_X_test,data_y_test,model):\n",
    "    rss = np.sum((data_y_train - model.predict(data_X_train))**2)\n",
    "    print('RMSE, train: ',math.sqrt(rss/data_X_train.shape[0]))\n",
    "    rss = np.sum((data_y_test-model.predict(data_X_test))**2)\n",
    "    print('RMSE, test: ',math.sqrt(rss/data_X_test.shape[0]))\n",
    "\n",
    "    print('R^2, train: ', model.score(data_X_train,data_y_train))\n",
    "    print('R^2, test: ', model.score(data_X_test,data_y_test))"
   ]
  },
  {
   "cell_type": "code",
   "execution_count": 676,
   "metadata": {},
   "outputs": [],
   "source": [
    "def get_importance(columns,importances,top=10):\n",
    "    top_list = sorted(list(zip(columns, importances)), key = lambda x: x[1], reverse = True)[0:top]\n",
    "    top_list = pd.DataFrame(top_list,columns=['Feature','Importance'])\n",
    "    print(top_list)"
   ]
  },
  {
   "cell_type": "code",
   "execution_count": 727,
   "metadata": {},
   "outputs": [],
   "source": [
    "def plot_residual(data_X,data_y,model,month=''):\n",
    "    plt.rcParams.update({'figure.figsize':(9,3), 'figure.dpi':120})\n",
    "    fig, (ax1,ax2) = plt.subplots(1, 2)\n",
    "    if month:\n",
    "        mask = data_y.index.map(lambda idx: idx[0] == month).tolist()\n",
    "        ax1.scatter(data_y[mask],model.predict(data_X[mask])-data_y[mask])\n",
    "        ax2.scatter(data_y[mask],(model.predict(data_X[mask])-data_y[mask])/data_y[mask])\n",
    "    else:\n",
    "        ax1.scatter(data_y,model.predict(data_X)-data_y)\n",
    "        ax2.scatter(data_y,(model.predict(data_X)-data_y)/data_y)"
   ]
  },
  {
   "cell_type": "markdown",
   "metadata": {},
   "source": [
    "## Manhattan"
   ]
  },
  {
   "cell_type": "code",
   "execution_count": 678,
   "metadata": {},
   "outputs": [],
   "source": [
    "mask_manh_train, mask_manh_test = get_mask('New York County')"
   ]
  },
  {
   "cell_type": "code",
   "execution_count": 683,
   "metadata": {},
   "outputs": [
    {
     "data": {
      "text/plain": [
       "GradientBoostingRegressor(alpha=0.9, ccp_alpha=0.0, criterion='friedman_mse',\n",
       "                          init=None, learning_rate=0.1, loss='ls', max_depth=3,\n",
       "                          max_features=None, max_leaf_nodes=None,\n",
       "                          min_impurity_decrease=0.0, min_impurity_split=None,\n",
       "                          min_samples_leaf=1, min_samples_split=2,\n",
       "                          min_weight_fraction_leaf=0.0, n_estimators=100,\n",
       "                          n_iter_no_change=None, presort='deprecated',\n",
       "                          random_state=None, subsample=1.0, tol=0.0001,\n",
       "                          validation_fraction=0.1, verbose=0, warm_start=False)"
      ]
     },
     "execution_count": 683,
     "metadata": {},
     "output_type": "execute_result"
    }
   ],
   "source": [
    "gb_manh = GradientBoostingRegressor()\n",
    "gb_manh.fit(X_train[mask_manh_train],y_train[mask_manh_train])"
   ]
  },
  {
   "cell_type": "code",
   "execution_count": 685,
   "metadata": {
    "scrolled": true
   },
   "outputs": [
    {
     "name": "stdout",
     "output_type": "stream",
     "text": [
      "RMSE, train:  76.4021895686427\n",
      "RMSE, test:  164.91953744522087\n",
      "R^2, train:  0.9864212420728201\n",
      "R^2, test:  0.9264008001630447\n"
     ]
    }
   ],
   "source": [
    "evaluate(X_train[mask_manh_train],y_train[mask_manh_train],\n",
    "         X_test[mask_manh_test],y_test[mask_manh_test],gb_manh)"
   ]
  },
  {
   "cell_type": "code",
   "execution_count": 686,
   "metadata": {},
   "outputs": [
    {
     "name": "stdout",
     "output_type": "stream",
     "text": [
      "                         Feature  Importance\n",
      "0          ann_gross_pay_proj_sd    0.312454\n",
      "1             ann_net_pay_obs_sd    0.130398\n",
      "2      ann_gross_pay_obs_gen_y_m    0.118347\n",
      "3  ann_gross_pay_obs_mle_gen_y_m    0.047214\n",
      "4                   reg_temp_cnt    0.046626\n",
      "5            tenure_fem_gen_bb_m    0.027929\n",
      "6        rate_amt_s_50perc_value    0.018517\n",
      "7                    ann_bonus_m    0.016639\n",
      "8             age_ann_lvl_high_m    0.016255\n",
      "9                      gen_y_cnt    0.015210\n"
     ]
    }
   ],
   "source": [
    "get_importance(X_train.columns,gb_manh.feature_importances_)"
   ]
  },
  {
   "cell_type": "markdown",
   "metadata": {},
   "source": [
    "Why ann_gross_pay_proj_sd and ann_net_pay_obs_sd? More features related to genenration Y?"
   ]
  },
  {
   "cell_type": "code",
   "execution_count": 687,
   "metadata": {
    "scrolled": true
   },
   "outputs": [
    {
     "data": {
      "image/png": "[encoded data removed]",
      "text/plain": [
       "<Figure size 1080x360 with 2 Axes>"
      ]
     },
     "metadata": {
      "needs_background": "light"
     },
     "output_type": "display_data"
    }
   ],
   "source": [
    "plot_residual(X_test[mask_manh_test],y_test[mask_manh_test],gb_manh)"
   ]
  },
  {
   "cell_type": "code",
   "execution_count": 817,
   "metadata": {},
   "outputs": [
    {
     "data": {
      "text/plain": [
       "<matplotlib.collections.PathCollection at 0x116071cd0>"
      ]
     },
     "execution_count": 817,
     "metadata": {},
     "output_type": "execute_result"
    },
    {
     "data": {
      "image/png": "[encoded data removed]",
      "text/plain": [
       "<Figure size 1080x360 with 1 Axes>"
      ]
     },
     "metadata": {
      "needs_background": "light"
     },
     "output_type": "display_data"
    }
   ],
   "source": [
    "plt.scatter(X_train[mask_manh_train].ann_net_pay_obs_sd,y_train[mask_manh_train])"
   ]
  },
  {
   "cell_type": "markdown",
   "metadata": {},
   "source": [
    "## Brooklyn"
   ]
  },
  {
   "cell_type": "code",
   "execution_count": 666,
   "metadata": {},
   "outputs": [],
   "source": [
    "mask_brkn_train, mask_brkn_test = get_mask('Kings County')"
   ]
  },
  {
   "cell_type": "code",
   "execution_count": 667,
   "metadata": {
    "scrolled": true
   },
   "outputs": [
    {
     "name": "stdout",
     "output_type": "stream",
     "text": [
      "CPU times: user 17.7 s, sys: 70.7 ms, total: 17.8 s\n",
      "Wall time: 17.9 s\n"
     ]
    },
    {
     "data": {
      "text/plain": [
       "GradientBoostingRegressor(alpha=0.9, ccp_alpha=0.0, criterion='friedman_mse',\n",
       "                          init=None, learning_rate=0.1, loss='ls', max_depth=3,\n",
       "                          max_features=None, max_leaf_nodes=None,\n",
       "                          min_impurity_decrease=0.0, min_impurity_split=None,\n",
       "                          min_samples_leaf=1, min_samples_split=2,\n",
       "                          min_weight_fraction_leaf=0.0, n_estimators=100,\n",
       "                          n_iter_no_change=None, presort='deprecated',\n",
       "                          random_state=None, subsample=1.0, tol=0.0001,\n",
       "                          validation_fraction=0.1, verbose=0, warm_start=False)"
      ]
     },
     "execution_count": 667,
     "metadata": {},
     "output_type": "execute_result"
    }
   ],
   "source": [
    "gb_brkn = GradientBoostingRegressor()\n",
    "%time gb_brkn.fit(X_train[mask_brkn_train],y_train[mask_brkn_train])"
   ]
  },
  {
   "cell_type": "code",
   "execution_count": 668,
   "metadata": {},
   "outputs": [
    {
     "name": "stdout",
     "output_type": "stream",
     "text": [
      "RMSE, train:  42.56580845040956\n",
      "RMSE, test:  84.45322709572531\n",
      "R^2, train:  0.9874077114635095\n",
      "R^2, test:  0.9121619794797482\n"
     ]
    }
   ],
   "source": [
    "evaluate(X_train[mask_brkn_train],y_train[mask_brkn_train],\n",
    "         X_test[mask_brkn_test],y_test[mask_brkn_test],gb_brkn)"
   ]
  },
  {
   "cell_type": "markdown",
   "metadata": {},
   "source": [
    "Overfit? Let's use cross validation."
   ]
  },
  {
   "cell_type": "code",
   "execution_count": 669,
   "metadata": {
    "scrolled": true
   },
   "outputs": [
    {
     "name": "stdout",
     "output_type": "stream",
     "text": [
      "CPU times: user 2min 39s, sys: 664 ms, total: 2min 40s\n",
      "Wall time: 2min 43s\n"
     ]
    },
    {
     "data": {
      "text/plain": [
       "GridSearchCV(cv=None, error_score=nan,\n",
       "             estimator=GradientBoostingRegressor(alpha=0.9, ccp_alpha=0.0,\n",
       "                                                 criterion='friedman_mse',\n",
       "                                                 init=None, learning_rate=0.1,\n",
       "                                                 loss='ls', max_depth=3,\n",
       "                                                 max_features=None,\n",
       "                                                 max_leaf_nodes=None,\n",
       "                                                 min_impurity_decrease=0.0,\n",
       "                                                 min_impurity_split=None,\n",
       "                                                 min_samples_leaf=1,\n",
       "                                                 min_samples_split=2,\n",
       "                                                 min_weight_fraction_leaf=0.0,\n",
       "                                                 n_estimators=100,\n",
       "                                                 n_iter_no_change=None,\n",
       "                                                 presort='deprecated',\n",
       "                                                 random_state=None,\n",
       "                                                 subsample=1.0, tol=0.0001,\n",
       "                                                 validation_fraction=0.1,\n",
       "                                                 verbose=0, warm_start=False),\n",
       "             iid='deprecated', n_jobs=None,\n",
       "             param_grid={'learning_rate': [0.1, 0.05], 'max_depth': [3],\n",
       "                         'n_estimators': [100]},\n",
       "             pre_dispatch='2*n_jobs', refit=True, return_train_score=False,\n",
       "             scoring=None, verbose=0)"
      ]
     },
     "execution_count": 669,
     "metadata": {},
     "output_type": "execute_result"
    }
   ],
   "source": [
    "estimator = GradientBoostingRegressor()\n",
    "\n",
    "max_depth = [3]\n",
    "n_estimators = [100]\n",
    "learning_rate = [0.1,0.05]\n",
    "params = {'max_depth':max_depth,'n_estimators':n_estimators,'learning_rate':learning_rate}\n",
    "\n",
    "grid_search_gb_brkn= GridSearchCV( estimator=estimator, param_grid=params )\n",
    "%time grid_search_gb_brkn.fit(X_train[mask_brkn_train],y_train[mask_brkn_train])"
   ]
  },
  {
   "cell_type": "code",
   "execution_count": 670,
   "metadata": {
    "scrolled": true
   },
   "outputs": [
    {
     "name": "stdout",
     "output_type": "stream",
     "text": [
      "RMSE, train:  42.56580845040954\n",
      "RMSE, test:  84.7388493067997\n",
      "R^2, train:  0.9874077114635095\n",
      "R^2, test:  0.9115668355084613\n"
     ]
    }
   ],
   "source": [
    "evaluate(X_train[mask_brkn_train],y_train[mask_brkn_train],\n",
    "         X_test[mask_brkn_test],y_test[mask_brkn_test],grid_search_gb_brkn)"
   ]
  },
  {
   "cell_type": "code",
   "execution_count": 671,
   "metadata": {
    "scrolled": true
   },
   "outputs": [
    {
     "name": "stdout",
     "output_type": "stream",
     "text": [
      "                          Feature  Importance\n",
      "0    tenure_fem_ann_lvl_upr_mid_m    0.438091\n",
      "1        tenure_ann_lvl_upr_mid_m    0.144878\n",
      "2                         reg_cnt    0.065398\n",
      "3                        temp_cnt    0.037728\n",
      "4                    reg_temp_cnt    0.030119\n",
      "5          age_fem_ann_lvl_high_m    0.027264\n",
      "6                  tenure_gen_y_m    0.022297\n",
      "7  ann_gross_pay_proj_fem_gen_y_m    0.017968\n",
      "8      ann_gross_pay_proj_gen_y_m    0.016897\n",
      "9                 reg_temp_nt_cnt    0.016467\n"
     ]
    }
   ],
   "source": [
    "get_importance(X_train.columns,grid_search_gb_brkn.best_estimator_.feature_importances_)"
   ]
  },
  {
   "cell_type": "markdown",
   "metadata": {},
   "source": [
    "More features related to females?"
   ]
  },
  {
   "cell_type": "code",
   "execution_count": 672,
   "metadata": {},
   "outputs": [
    {
     "data": {
      "image/png": "[encoded data removed]",
      "text/plain": [
       "<Figure size 1080x360 with 2 Axes>"
      ]
     },
     "metadata": {
      "needs_background": "light"
     },
     "output_type": "display_data"
    }
   ],
   "source": [
    "plot_residual(X_test[mask_brkn_test],y_test[mask_brkn_test],grid_search_gb_brkn)"
   ]
  },
  {
   "cell_type": "code",
   "execution_count": 737,
   "metadata": {},
   "outputs": [
    {
     "data": {
      "image/png": "[encoded data removed]",
      "text/plain": [
       "<Figure size 1080x360 with 2 Axes>"
      ]
     },
     "metadata": {
      "needs_background": "light"
     },
     "output_type": "display_data"
    }
   ],
   "source": [
    "plot_residual(X_train[mask_brkn_train],y_train[mask_brkn_train],grid_search_gb_brkn)"
   ]
  },
  {
   "cell_type": "markdown",
   "metadata": {},
   "source": [
    "## Queens"
   ]
  },
  {
   "cell_type": "code",
   "execution_count": 809,
   "metadata": {},
   "outputs": [],
   "source": [
    "mask_quns_train,mask_quns_test = get_mask('Queens County')"
   ]
  },
  {
   "cell_type": "code",
   "execution_count": 810,
   "metadata": {
    "scrolled": true
   },
   "outputs": [
    {
     "data": {
      "text/plain": [
       "GradientBoostingRegressor(alpha=0.9, ccp_alpha=0.0, criterion='friedman_mse',\n",
       "                          init=None, learning_rate=0.1, loss='ls', max_depth=3,\n",
       "                          max_features=None, max_leaf_nodes=None,\n",
       "                          min_impurity_decrease=0.0, min_impurity_split=None,\n",
       "                          min_samples_leaf=1, min_samples_split=2,\n",
       "                          min_weight_fraction_leaf=0.0, n_estimators=100,\n",
       "                          n_iter_no_change=None, presort='deprecated',\n",
       "                          random_state=None, subsample=1.0, tol=0.0001,\n",
       "                          validation_fraction=0.1, verbose=0, warm_start=False)"
      ]
     },
     "execution_count": 810,
     "metadata": {},
     "output_type": "execute_result"
    }
   ],
   "source": [
    "gb_quns = GradientBoostingRegressor()\n",
    "gb_quns.fit(X_train[mask_quns_train],y_train[mask_quns_train])"
   ]
  },
  {
   "cell_type": "code",
   "execution_count": 811,
   "metadata": {},
   "outputs": [
    {
     "name": "stdout",
     "output_type": "stream",
     "text": [
      "RMSE, train:  28.81681889508676\n",
      "RMSE, test:  64.49684653744546\n",
      "R^2, train:  0.9856747510777243\n",
      "R^2, test:  0.4994464699622383\n"
     ]
    }
   ],
   "source": [
    "evaluate(X_train[mask_quns_train],y_train[mask_quns_train],\n",
    "         X_test[mask_quns_test],y_test[mask_quns_test],gb_quns)"
   ]
  },
  {
   "cell_type": "markdown",
   "metadata": {},
   "source": [
    "Overfit!"
   ]
  },
  {
   "cell_type": "markdown",
   "metadata": {},
   "source": [
    "Try adding year and month as features."
   ]
  },
  {
   "cell_type": "code",
   "execution_count": 812,
   "metadata": {},
   "outputs": [
    {
     "data": {
      "text/html": [
       "<div>\n",
       "<style scoped>\n",
       "    .dataframe tbody tr th:only-of-type {\n",
       "        vertical-align: middle;\n",
       "    }\n",
       "\n",
       "    .dataframe tbody tr th {\n",
       "        vertical-align: top;\n",
       "    }\n",
       "\n",
       "    .dataframe thead th {\n",
       "        text-align: right;\n",
       "    }\n",
       "</style>\n",
       "<table border=\"1\" class=\"dataframe\">\n",
       "  <thead>\n",
       "    <tr style=\"text-align: right;\">\n",
       "      <th></th>\n",
       "      <th></th>\n",
       "      <th>employer_cnt</th>\n",
       "      <th>ee_cnt</th>\n",
       "      <th>age_m</th>\n",
       "      <th>age_16_17_cnt</th>\n",
       "      <th>age_18_24_cnt</th>\n",
       "      <th>age_25_34_cnt</th>\n",
       "      <th>age_35_54_cnt</th>\n",
       "      <th>age_55_64_cnt</th>\n",
       "      <th>age_65_p_cnt</th>\n",
       "      <th>age_nt_cnt</th>\n",
       "      <th>...</th>\n",
       "      <th>age_mle_ann_lvl_six_fig_m</th>\n",
       "      <th>age_fem_ann_lvl_six_fig_m</th>\n",
       "      <th>tenure_mle_m</th>\n",
       "      <th>tenure_fem_m</th>\n",
       "      <th>tenure_mle_hrly_m</th>\n",
       "      <th>tenure_mle_s_m</th>\n",
       "      <th>tenure_fem_hrly_m</th>\n",
       "      <th>tenure_fem_s_m</th>\n",
       "      <th>year</th>\n",
       "      <th>month</th>\n",
       "    </tr>\n",
       "    <tr>\n",
       "      <th>time</th>\n",
       "      <th>zip</th>\n",
       "      <th></th>\n",
       "      <th></th>\n",
       "      <th></th>\n",
       "      <th></th>\n",
       "      <th></th>\n",
       "      <th></th>\n",
       "      <th></th>\n",
       "      <th></th>\n",
       "      <th></th>\n",
       "      <th></th>\n",
       "      <th></th>\n",
       "      <th></th>\n",
       "      <th></th>\n",
       "      <th></th>\n",
       "      <th></th>\n",
       "      <th></th>\n",
       "      <th></th>\n",
       "      <th></th>\n",
       "      <th></th>\n",
       "      <th></th>\n",
       "      <th></th>\n",
       "    </tr>\n",
       "  </thead>\n",
       "  <tbody>\n",
       "    <tr>\n",
       "      <th rowspan=\"5\" valign=\"top\">2011-01</th>\n",
       "      <th>10001</th>\n",
       "      <td>1231.0</td>\n",
       "      <td>2425.0</td>\n",
       "      <td>36.97</td>\n",
       "      <td>5.0</td>\n",
       "      <td>233.0</td>\n",
       "      <td>902.0</td>\n",
       "      <td>713.0</td>\n",
       "      <td>185.0</td>\n",
       "      <td>64.0</td>\n",
       "      <td>323.0</td>\n",
       "      <td>...</td>\n",
       "      <td>37.96</td>\n",
       "      <td>38.63</td>\n",
       "      <td>4.33</td>\n",
       "      <td>3.76</td>\n",
       "      <td>4.57</td>\n",
       "      <td>4.22</td>\n",
       "      <td>3.63</td>\n",
       "      <td>3.84</td>\n",
       "      <td>2011</td>\n",
       "      <td>1</td>\n",
       "    </tr>\n",
       "    <tr>\n",
       "      <th>10003</th>\n",
       "      <td>2088.0</td>\n",
       "      <td>6049.0</td>\n",
       "      <td>36.56</td>\n",
       "      <td>2.0</td>\n",
       "      <td>371.0</td>\n",
       "      <td>2694.0</td>\n",
       "      <td>1621.0</td>\n",
       "      <td>418.0</td>\n",
       "      <td>182.0</td>\n",
       "      <td>761.0</td>\n",
       "      <td>...</td>\n",
       "      <td>38.43</td>\n",
       "      <td>39.13</td>\n",
       "      <td>4.57</td>\n",
       "      <td>3.96</td>\n",
       "      <td>4.49</td>\n",
       "      <td>4.59</td>\n",
       "      <td>3.70</td>\n",
       "      <td>4.02</td>\n",
       "      <td>2011</td>\n",
       "      <td>1</td>\n",
       "    </tr>\n",
       "    <tr>\n",
       "      <th>10005</th>\n",
       "      <td>630.0</td>\n",
       "      <td>1288.0</td>\n",
       "      <td>33.40</td>\n",
       "      <td>1.0</td>\n",
       "      <td>106.0</td>\n",
       "      <td>656.0</td>\n",
       "      <td>335.0</td>\n",
       "      <td>39.0</td>\n",
       "      <td>13.0</td>\n",
       "      <td>138.0</td>\n",
       "      <td>...</td>\n",
       "      <td>38.38</td>\n",
       "      <td>37.38</td>\n",
       "      <td>4.61</td>\n",
       "      <td>3.04</td>\n",
       "      <td>2.73</td>\n",
       "      <td>4.82</td>\n",
       "      <td>2.20</td>\n",
       "      <td>3.26</td>\n",
       "      <td>2011</td>\n",
       "      <td>1</td>\n",
       "    </tr>\n",
       "    <tr>\n",
       "      <th>10009</th>\n",
       "      <td>1989.0</td>\n",
       "      <td>5831.0</td>\n",
       "      <td>36.66</td>\n",
       "      <td>4.0</td>\n",
       "      <td>538.0</td>\n",
       "      <td>2334.0</td>\n",
       "      <td>1576.0</td>\n",
       "      <td>484.0</td>\n",
       "      <td>134.0</td>\n",
       "      <td>761.0</td>\n",
       "      <td>...</td>\n",
       "      <td>39.53</td>\n",
       "      <td>41.95</td>\n",
       "      <td>4.52</td>\n",
       "      <td>4.41</td>\n",
       "      <td>4.86</td>\n",
       "      <td>4.29</td>\n",
       "      <td>4.44</td>\n",
       "      <td>4.39</td>\n",
       "      <td>2011</td>\n",
       "      <td>1</td>\n",
       "    </tr>\n",
       "    <tr>\n",
       "      <th>10010</th>\n",
       "      <td>1546.0</td>\n",
       "      <td>3832.0</td>\n",
       "      <td>36.38</td>\n",
       "      <td>4.0</td>\n",
       "      <td>222.0</td>\n",
       "      <td>1695.0</td>\n",
       "      <td>1038.0</td>\n",
       "      <td>232.0</td>\n",
       "      <td>124.0</td>\n",
       "      <td>517.0</td>\n",
       "      <td>...</td>\n",
       "      <td>38.50</td>\n",
       "      <td>39.71</td>\n",
       "      <td>4.49</td>\n",
       "      <td>4.48</td>\n",
       "      <td>5.16</td>\n",
       "      <td>4.38</td>\n",
       "      <td>4.06</td>\n",
       "      <td>4.59</td>\n",
       "      <td>2011</td>\n",
       "      <td>1</td>\n",
       "    </tr>\n",
       "    <tr>\n",
       "      <th>...</th>\n",
       "      <th>...</th>\n",
       "      <td>...</td>\n",
       "      <td>...</td>\n",
       "      <td>...</td>\n",
       "      <td>...</td>\n",
       "      <td>...</td>\n",
       "      <td>...</td>\n",
       "      <td>...</td>\n",
       "      <td>...</td>\n",
       "      <td>...</td>\n",
       "      <td>...</td>\n",
       "      <td>...</td>\n",
       "      <td>...</td>\n",
       "      <td>...</td>\n",
       "      <td>...</td>\n",
       "      <td>...</td>\n",
       "      <td>...</td>\n",
       "      <td>...</td>\n",
       "      <td>...</td>\n",
       "      <td>...</td>\n",
       "      <td>...</td>\n",
       "      <td>...</td>\n",
       "    </tr>\n",
       "    <tr>\n",
       "      <th rowspan=\"5\" valign=\"top\">2018-12</th>\n",
       "      <th>11435</th>\n",
       "      <td>1591.0</td>\n",
       "      <td>4538.0</td>\n",
       "      <td>40.59</td>\n",
       "      <td>13.0</td>\n",
       "      <td>544.0</td>\n",
       "      <td>1199.0</td>\n",
       "      <td>1758.0</td>\n",
       "      <td>659.0</td>\n",
       "      <td>204.0</td>\n",
       "      <td>161.0</td>\n",
       "      <td>...</td>\n",
       "      <td>44.01</td>\n",
       "      <td>43.43</td>\n",
       "      <td>6.08</td>\n",
       "      <td>5.56</td>\n",
       "      <td>5.85</td>\n",
       "      <td>6.93</td>\n",
       "      <td>4.94</td>\n",
       "      <td>7.37</td>\n",
       "      <td>2018</td>\n",
       "      <td>12</td>\n",
       "    </tr>\n",
       "    <tr>\n",
       "      <th>11436</th>\n",
       "      <td>750.0</td>\n",
       "      <td>1750.0</td>\n",
       "      <td>40.62</td>\n",
       "      <td>11.0</td>\n",
       "      <td>243.0</td>\n",
       "      <td>409.0</td>\n",
       "      <td>693.0</td>\n",
       "      <td>286.0</td>\n",
       "      <td>63.0</td>\n",
       "      <td>45.0</td>\n",
       "      <td>...</td>\n",
       "      <td>45.74</td>\n",
       "      <td>44.54</td>\n",
       "      <td>5.70</td>\n",
       "      <td>5.21</td>\n",
       "      <td>5.61</td>\n",
       "      <td>6.29</td>\n",
       "      <td>4.84</td>\n",
       "      <td>7.16</td>\n",
       "      <td>2018</td>\n",
       "      <td>12</td>\n",
       "    </tr>\n",
       "    <tr>\n",
       "      <th>11691</th>\n",
       "      <td>1079.0</td>\n",
       "      <td>3594.0</td>\n",
       "      <td>40.13</td>\n",
       "      <td>19.0</td>\n",
       "      <td>483.0</td>\n",
       "      <td>904.0</td>\n",
       "      <td>1423.0</td>\n",
       "      <td>501.0</td>\n",
       "      <td>146.0</td>\n",
       "      <td>118.0</td>\n",
       "      <td>...</td>\n",
       "      <td>45.74</td>\n",
       "      <td>44.22</td>\n",
       "      <td>5.40</td>\n",
       "      <td>5.82</td>\n",
       "      <td>5.06</td>\n",
       "      <td>7.16</td>\n",
       "      <td>5.59</td>\n",
       "      <td>6.88</td>\n",
       "      <td>2018</td>\n",
       "      <td>12</td>\n",
       "    </tr>\n",
       "    <tr>\n",
       "      <th>11692</th>\n",
       "      <td>667.0</td>\n",
       "      <td>1454.0</td>\n",
       "      <td>39.42</td>\n",
       "      <td>7.0</td>\n",
       "      <td>208.0</td>\n",
       "      <td>366.0</td>\n",
       "      <td>595.0</td>\n",
       "      <td>199.0</td>\n",
       "      <td>36.0</td>\n",
       "      <td>43.0</td>\n",
       "      <td>...</td>\n",
       "      <td>46.35</td>\n",
       "      <td>47.02</td>\n",
       "      <td>4.55</td>\n",
       "      <td>4.74</td>\n",
       "      <td>4.37</td>\n",
       "      <td>5.47</td>\n",
       "      <td>4.36</td>\n",
       "      <td>6.52</td>\n",
       "      <td>2018</td>\n",
       "      <td>12</td>\n",
       "    </tr>\n",
       "    <tr>\n",
       "      <th>11694</th>\n",
       "      <td>641.0</td>\n",
       "      <td>1142.0</td>\n",
       "      <td>43.35</td>\n",
       "      <td>5.0</td>\n",
       "      <td>103.0</td>\n",
       "      <td>266.0</td>\n",
       "      <td>431.0</td>\n",
       "      <td>215.0</td>\n",
       "      <td>77.0</td>\n",
       "      <td>45.0</td>\n",
       "      <td>...</td>\n",
       "      <td>50.65</td>\n",
       "      <td>48.17</td>\n",
       "      <td>7.89</td>\n",
       "      <td>7.05</td>\n",
       "      <td>6.92</td>\n",
       "      <td>9.27</td>\n",
       "      <td>6.86</td>\n",
       "      <td>7.43</td>\n",
       "      <td>2018</td>\n",
       "      <td>12</td>\n",
       "    </tr>\n",
       "  </tbody>\n",
       "</table>\n",
       "<p>13152 rows × 235 columns</p>\n",
       "</div>"
      ],
      "text/plain": [
       "               employer_cnt  ee_cnt  age_m  age_16_17_cnt  age_18_24_cnt  \\\n",
       "time    zip                                                                \n",
       "2011-01 10001        1231.0  2425.0  36.97            5.0          233.0   \n",
       "        10003        2088.0  6049.0  36.56            2.0          371.0   \n",
       "        10005         630.0  1288.0  33.40            1.0          106.0   \n",
       "        10009        1989.0  5831.0  36.66            4.0          538.0   \n",
       "        10010        1546.0  3832.0  36.38            4.0          222.0   \n",
       "...                     ...     ...    ...            ...            ...   \n",
       "2018-12 11435        1591.0  4538.0  40.59           13.0          544.0   \n",
       "        11436         750.0  1750.0  40.62           11.0          243.0   \n",
       "        11691        1079.0  3594.0  40.13           19.0          483.0   \n",
       "        11692         667.0  1454.0  39.42            7.0          208.0   \n",
       "        11694         641.0  1142.0  43.35            5.0          103.0   \n",
       "\n",
       "               age_25_34_cnt  age_35_54_cnt  age_55_64_cnt  age_65_p_cnt  \\\n",
       "time    zip                                                                \n",
       "2011-01 10001          902.0          713.0          185.0          64.0   \n",
       "        10003         2694.0         1621.0          418.0         182.0   \n",
       "        10005          656.0          335.0           39.0          13.0   \n",
       "        10009         2334.0         1576.0          484.0         134.0   \n",
       "        10010         1695.0         1038.0          232.0         124.0   \n",
       "...                      ...            ...            ...           ...   \n",
       "2018-12 11435         1199.0         1758.0          659.0         204.0   \n",
       "        11436          409.0          693.0          286.0          63.0   \n",
       "        11691          904.0         1423.0          501.0         146.0   \n",
       "        11692          366.0          595.0          199.0          36.0   \n",
       "        11694          266.0          431.0          215.0          77.0   \n",
       "\n",
       "               age_nt_cnt  ...  age_mle_ann_lvl_six_fig_m  \\\n",
       "time    zip                ...                              \n",
       "2011-01 10001       323.0  ...                      37.96   \n",
       "        10003       761.0  ...                      38.43   \n",
       "        10005       138.0  ...                      38.38   \n",
       "        10009       761.0  ...                      39.53   \n",
       "        10010       517.0  ...                      38.50   \n",
       "...                   ...  ...                        ...   \n",
       "2018-12 11435       161.0  ...                      44.01   \n",
       "        11436        45.0  ...                      45.74   \n",
       "        11691       118.0  ...                      45.74   \n",
       "        11692        43.0  ...                      46.35   \n",
       "        11694        45.0  ...                      50.65   \n",
       "\n",
       "               age_fem_ann_lvl_six_fig_m  tenure_mle_m  tenure_fem_m  \\\n",
       "time    zip                                                            \n",
       "2011-01 10001                      38.63          4.33          3.76   \n",
       "        10003                      39.13          4.57          3.96   \n",
       "        10005                      37.38          4.61          3.04   \n",
       "        10009                      41.95          4.52          4.41   \n",
       "        10010                      39.71          4.49          4.48   \n",
       "...                                  ...           ...           ...   \n",
       "2018-12 11435                      43.43          6.08          5.56   \n",
       "        11436                      44.54          5.70          5.21   \n",
       "        11691                      44.22          5.40          5.82   \n",
       "        11692                      47.02          4.55          4.74   \n",
       "        11694                      48.17          7.89          7.05   \n",
       "\n",
       "               tenure_mle_hrly_m  tenure_mle_s_m  tenure_fem_hrly_m  \\\n",
       "time    zip                                                           \n",
       "2011-01 10001               4.57            4.22               3.63   \n",
       "        10003               4.49            4.59               3.70   \n",
       "        10005               2.73            4.82               2.20   \n",
       "        10009               4.86            4.29               4.44   \n",
       "        10010               5.16            4.38               4.06   \n",
       "...                          ...             ...                ...   \n",
       "2018-12 11435               5.85            6.93               4.94   \n",
       "        11436               5.61            6.29               4.84   \n",
       "        11691               5.06            7.16               5.59   \n",
       "        11692               4.37            5.47               4.36   \n",
       "        11694               6.92            9.27               6.86   \n",
       "\n",
       "               tenure_fem_s_m  year  month  \n",
       "time    zip                                 \n",
       "2011-01 10001            3.84  2011      1  \n",
       "        10003            4.02  2011      1  \n",
       "        10005            3.26  2011      1  \n",
       "        10009            4.39  2011      1  \n",
       "        10010            4.59  2011      1  \n",
       "...                       ...   ...    ...  \n",
       "2018-12 11435            7.37  2018     12  \n",
       "        11436            7.16  2018     12  \n",
       "        11691            6.88  2018     12  \n",
       "        11692            6.52  2018     12  \n",
       "        11694            7.43  2018     12  \n",
       "\n",
       "[13152 rows x 235 columns]"
      ]
     },
     "execution_count": 812,
     "metadata": {},
     "output_type": "execute_result"
    }
   ],
   "source": [
    "X_train"
   ]
  },
  {
   "cell_type": "markdown",
   "metadata": {},
   "source": [
    "## Bronx"
   ]
  },
  {
   "cell_type": "code",
   "execution_count": 636,
   "metadata": {},
   "outputs": [],
   "source": [
    "mask_brnx_train, mask_brnx_test = get_mask('Bronx County')"
   ]
  },
  {
   "cell_type": "code",
   "execution_count": 637,
   "metadata": {
    "scrolled": true
   },
   "outputs": [
    {
     "name": "stdout",
     "output_type": "stream",
     "text": [
      "CPU times: user 7.4 s, sys: 50.7 ms, total: 7.45 s\n",
      "Wall time: 7.56 s\n"
     ]
    },
    {
     "data": {
      "text/plain": [
       "GradientBoostingRegressor(alpha=0.9, ccp_alpha=0.0, criterion='friedman_mse',\n",
       "                          init=None, learning_rate=0.1, loss='ls', max_depth=3,\n",
       "                          max_features=None, max_leaf_nodes=None,\n",
       "                          min_impurity_decrease=0.0, min_impurity_split=None,\n",
       "                          min_samples_leaf=1, min_samples_split=2,\n",
       "                          min_weight_fraction_leaf=0.0, n_estimators=100,\n",
       "                          n_iter_no_change=None, presort='deprecated',\n",
       "                          random_state=None, subsample=1.0, tol=0.0001,\n",
       "                          validation_fraction=0.1, verbose=0, warm_start=False)"
      ]
     },
     "execution_count": 637,
     "metadata": {},
     "output_type": "execute_result"
    }
   ],
   "source": [
    "gb_brnx = GradientBoostingRegressor()\n",
    "%time gb_brnx.fit(X_train[mask_brnx_train],y_train[mask_brnx_train])"
   ]
  },
  {
   "cell_type": "code",
   "execution_count": 640,
   "metadata": {},
   "outputs": [
    {
     "name": "stdout",
     "output_type": "stream",
     "text": [
      "RMSE, train:  16.5532079848682\n",
      "RMSE, test:  63.03809376515686\n",
      "R^2, train:  0.9898718666597421\n",
      "R^2, test:  0.5222839939237047\n"
     ]
    }
   ],
   "source": [
    "evaluate(X_train[mask_brnx_train],y_train[mask_brnx_train],\n",
    "         X_test[mask_brnx_test],y_test[mask_brnx_test],gb_brnx)"
   ]
  },
  {
   "cell_type": "markdown",
   "metadata": {},
   "source": [
    "Overfit? Let's use cross validation."
   ]
  },
  {
   "cell_type": "markdown",
   "metadata": {},
   "source": [
    "## Staten Island"
   ]
  },
  {
   "cell_type": "code",
   "execution_count": 645,
   "metadata": {},
   "outputs": [],
   "source": [
    "mask_sttn_train, mask_sttn_test = get_mask('Richmond County')"
   ]
  },
  {
   "cell_type": "code",
   "execution_count": 646,
   "metadata": {
    "scrolled": true
   },
   "outputs": [
    {
     "name": "stdout",
     "output_type": "stream",
     "text": [
      "CPU times: user 4.71 s, sys: 23.3 ms, total: 4.73 s\n",
      "Wall time: 4.76 s\n"
     ]
    },
    {
     "data": {
      "text/plain": [
       "GradientBoostingRegressor(alpha=0.9, ccp_alpha=0.0, criterion='friedman_mse',\n",
       "                          init=None, learning_rate=0.1, loss='ls', max_depth=3,\n",
       "                          max_features=None, max_leaf_nodes=None,\n",
       "                          min_impurity_decrease=0.0, min_impurity_split=None,\n",
       "                          min_samples_leaf=1, min_samples_split=2,\n",
       "                          min_weight_fraction_leaf=0.0, n_estimators=100,\n",
       "                          n_iter_no_change=None, presort='deprecated',\n",
       "                          random_state=None, subsample=1.0, tol=0.0001,\n",
       "                          validation_fraction=0.1, verbose=0, warm_start=False)"
      ]
     },
     "execution_count": 646,
     "metadata": {},
     "output_type": "execute_result"
    }
   ],
   "source": [
    "gb_sttn = GradientBoostingRegressor()\n",
    "%time gb_sttn.fit(X_train[mask_sttn_train],y_train[mask_sttn_train])"
   ]
  },
  {
   "cell_type": "code",
   "execution_count": 647,
   "metadata": {},
   "outputs": [
    {
     "name": "stdout",
     "output_type": "stream",
     "text": [
      "RMSE, train:  24.15339623600213\n",
      "RMSE, test:  92.30444754645931\n",
      "R^2, train:  0.9894608749136901\n",
      "R^2, test:  -1.4832791191570607\n"
     ]
    }
   ],
   "source": [
    "evaluate(X_train[mask_sttn_train],y_train[mask_sttn_train],\n",
    "         X_test[mask_sttn_test],y_test[mask_sttn_test],gb_sttn)"
   ]
  },
  {
   "cell_type": "markdown",
   "metadata": {},
   "source": [
    "# PCA"
   ]
  },
  {
   "cell_type": "markdown",
   "metadata": {},
   "source": [
    "## NYC"
   ]
  },
  {
   "cell_type": "code",
   "execution_count": 819,
   "metadata": {},
   "outputs": [],
   "source": [
    "from sklearn.decomposition import PCA"
   ]
  },
  {
   "cell_type": "code",
   "execution_count": 891,
   "metadata": {},
   "outputs": [],
   "source": [
    "n_components=8\n",
    "pca_nyc = PCA(n_components=n_components)\n",
    "adp_transformed = pca_nyc.fit_transform(X_train_scl)"
   ]
  },
  {
   "cell_type": "code",
   "execution_count": 892,
   "metadata": {},
   "outputs": [
    {
     "data": {
      "text/plain": [
       "Text(0, 0.5, 'Explained Variance Ratio')"
      ]
     },
     "execution_count": 892,
     "metadata": {},
     "output_type": "execute_result"
    },
    {
     "data": {
      "image/png": "[encoded data removed]",
      "text/plain": [
       "<Figure size 1080x360 with 1 Axes>"
      ]
     },
     "metadata": {
      "needs_background": "light"
     },
     "output_type": "display_data"
    }
   ],
   "source": [
    "plt.plot(range(1,n_components+1),pca_nyc.explained_variance_ratio_)\n",
    "plt.xlabel('PC')\n",
    "plt.ylabel('Explained Variance Ratio')"
   ]
  },
  {
   "cell_type": "code",
   "execution_count": 868,
   "metadata": {},
   "outputs": [],
   "source": [
    "colorCode = {'New York County':0,'Kings County':1, 'Queens County': 2, 'Bronx County': 3,\n",
    "            'Richmond County':4}\n",
    "color_list = X_train.reset_index()[['zip']].merge(region)['CountyName'].map(lambda name: colorCode[name])"
   ]
  },
  {
   "cell_type": "code",
   "execution_count": 869,
   "metadata": {},
   "outputs": [
    {
     "data": {
      "text/plain": [
       "Text(0, 0.5, '2nd PC')"
      ]
     },
     "execution_count": 869,
     "metadata": {},
     "output_type": "execute_result"
    },
    {
     "data": {
      "image/png": "[encoded data removed]",
      "text/plain": [
       "<Figure size 1080x360 with 1 Axes>"
      ]
     },
     "metadata": {
      "needs_background": "light"
     },
     "output_type": "display_data"
    }
   ],
   "source": [
    "plt.scatter(x=adp_transformed[:,0], y=adp_transformed[:,1], c=color_list)\n",
    "plt.xlabel('1st PC')\n",
    "plt.ylabel('2nd PC')"
   ]
  },
  {
   "cell_type": "markdown",
   "metadata": {},
   "source": [
    "PC is not seperating difference boros."
   ]
  },
  {
   "cell_type": "code",
   "execution_count": 871,
   "metadata": {},
   "outputs": [],
   "source": [
    "pca_comp = pd.DataFrame({'Feature':X_train_scl.columns,'PC1':pca_nyc.components_[0,:],'PC2':pca_nyc.components_[1,:],\n",
    "                        'PC3':pca_nyc.components_[2,:],'PC4':pca_nyc.components_[3,:],'PC5':pca_nyc.components_[4,:]})"
   ]
  },
  {
   "cell_type": "code",
   "execution_count": 873,
   "metadata": {},
   "outputs": [
    {
     "data": {
      "text/html": [
       "<div>\n",
       "<style scoped>\n",
       "    .dataframe tbody tr th:only-of-type {\n",
       "        vertical-align: middle;\n",
       "    }\n",
       "\n",
       "    .dataframe tbody tr th {\n",
       "        vertical-align: top;\n",
       "    }\n",
       "\n",
       "    .dataframe thead th {\n",
       "        text-align: right;\n",
       "    }\n",
       "</style>\n",
       "<table border=\"1\" class=\"dataframe\">\n",
       "  <thead>\n",
       "    <tr style=\"text-align: right;\">\n",
       "      <th></th>\n",
       "      <th>Feature</th>\n",
       "      <th>PC1</th>\n",
       "      <th>PC2</th>\n",
       "      <th>PC3</th>\n",
       "      <th>PC4</th>\n",
       "      <th>PC5</th>\n",
       "    </tr>\n",
       "  </thead>\n",
       "  <tbody>\n",
       "    <tr>\n",
       "      <th>84</th>\n",
       "      <td>ann_gross_pay_proj_m</td>\n",
       "      <td>0.091177</td>\n",
       "      <td>-0.011159</td>\n",
       "      <td>-0.011864</td>\n",
       "      <td>0.020389</td>\n",
       "      <td>0.014065</td>\n",
       "    </tr>\n",
       "    <tr>\n",
       "      <th>98</th>\n",
       "      <td>ann_net_pay_proj_m</td>\n",
       "      <td>0.090995</td>\n",
       "      <td>-0.010880</td>\n",
       "      <td>-0.011667</td>\n",
       "      <td>0.014098</td>\n",
       "      <td>0.015905</td>\n",
       "    </tr>\n",
       "    <tr>\n",
       "      <th>161</th>\n",
       "      <td>ann_gross_pay_proj_gen_x_m</td>\n",
       "      <td>0.090864</td>\n",
       "      <td>-0.008547</td>\n",
       "      <td>0.000305</td>\n",
       "      <td>0.015889</td>\n",
       "      <td>0.025049</td>\n",
       "    </tr>\n",
       "    <tr>\n",
       "      <th>123</th>\n",
       "      <td>ann_gross_pay_proj_mle_m</td>\n",
       "      <td>0.090840</td>\n",
       "      <td>-0.011661</td>\n",
       "      <td>-0.010501</td>\n",
       "      <td>0.027065</td>\n",
       "      <td>0.023570</td>\n",
       "    </tr>\n",
       "    <tr>\n",
       "      <th>124</th>\n",
       "      <td>ann_gross_pay_proj_fem_m</td>\n",
       "      <td>0.090767</td>\n",
       "      <td>-0.010421</td>\n",
       "      <td>-0.016880</td>\n",
       "      <td>0.010201</td>\n",
       "      <td>0.002073</td>\n",
       "    </tr>\n",
       "    <tr>\n",
       "      <th>...</th>\n",
       "      <td>...</td>\n",
       "      <td>...</td>\n",
       "      <td>...</td>\n",
       "      <td>...</td>\n",
       "      <td>...</td>\n",
       "      <td>...</td>\n",
       "    </tr>\n",
       "    <tr>\n",
       "      <th>220</th>\n",
       "      <td>age_fem_ann_lvl_upr_mid_m</td>\n",
       "      <td>-0.072373</td>\n",
       "      <td>-0.038391</td>\n",
       "      <td>-0.109291</td>\n",
       "      <td>0.023763</td>\n",
       "      <td>0.018206</td>\n",
       "    </tr>\n",
       "    <tr>\n",
       "      <th>199</th>\n",
       "      <td>tenure_fem_ann_lvl_mid_m</td>\n",
       "      <td>-0.072660</td>\n",
       "      <td>-0.034853</td>\n",
       "      <td>-0.085847</td>\n",
       "      <td>0.058678</td>\n",
       "      <td>0.029218</td>\n",
       "    </tr>\n",
       "    <tr>\n",
       "      <th>197</th>\n",
       "      <td>tenure_ann_lvl_mid_m</td>\n",
       "      <td>-0.073415</td>\n",
       "      <td>-0.026750</td>\n",
       "      <td>-0.084199</td>\n",
       "      <td>0.073203</td>\n",
       "      <td>-0.022971</td>\n",
       "    </tr>\n",
       "    <tr>\n",
       "      <th>200</th>\n",
       "      <td>tenure_ann_lvl_upr_mid_m</td>\n",
       "      <td>-0.074608</td>\n",
       "      <td>-0.037026</td>\n",
       "      <td>-0.098476</td>\n",
       "      <td>0.005193</td>\n",
       "      <td>0.034910</td>\n",
       "    </tr>\n",
       "    <tr>\n",
       "      <th>202</th>\n",
       "      <td>tenure_fem_ann_lvl_upr_mid_m</td>\n",
       "      <td>-0.075415</td>\n",
       "      <td>-0.036369</td>\n",
       "      <td>-0.092216</td>\n",
       "      <td>0.031039</td>\n",
       "      <td>0.032284</td>\n",
       "    </tr>\n",
       "  </tbody>\n",
       "</table>\n",
       "<p>233 rows × 6 columns</p>\n",
       "</div>"
      ],
      "text/plain": [
       "                          Feature       PC1       PC2       PC3       PC4  \\\n",
       "84           ann_gross_pay_proj_m  0.091177 -0.011159 -0.011864  0.020389   \n",
       "98             ann_net_pay_proj_m  0.090995 -0.010880 -0.011667  0.014098   \n",
       "161    ann_gross_pay_proj_gen_x_m  0.090864 -0.008547  0.000305  0.015889   \n",
       "123      ann_gross_pay_proj_mle_m  0.090840 -0.011661 -0.010501  0.027065   \n",
       "124      ann_gross_pay_proj_fem_m  0.090767 -0.010421 -0.016880  0.010201   \n",
       "..                            ...       ...       ...       ...       ...   \n",
       "220     age_fem_ann_lvl_upr_mid_m -0.072373 -0.038391 -0.109291  0.023763   \n",
       "199      tenure_fem_ann_lvl_mid_m -0.072660 -0.034853 -0.085847  0.058678   \n",
       "197          tenure_ann_lvl_mid_m -0.073415 -0.026750 -0.084199  0.073203   \n",
       "200      tenure_ann_lvl_upr_mid_m -0.074608 -0.037026 -0.098476  0.005193   \n",
       "202  tenure_fem_ann_lvl_upr_mid_m -0.075415 -0.036369 -0.092216  0.031039   \n",
       "\n",
       "          PC5  \n",
       "84   0.014065  \n",
       "98   0.015905  \n",
       "161  0.025049  \n",
       "123  0.023570  \n",
       "124  0.002073  \n",
       "..        ...  \n",
       "220  0.018206  \n",
       "199  0.029218  \n",
       "197 -0.022971  \n",
       "200  0.034910  \n",
       "202  0.032284  \n",
       "\n",
       "[233 rows x 6 columns]"
      ]
     },
     "execution_count": 873,
     "metadata": {},
     "output_type": "execute_result"
    }
   ],
   "source": [
    "pca_comp.sort_values('PC1',ascending=False)"
   ]
  },
  {
   "cell_type": "code",
   "execution_count": 874,
   "metadata": {},
   "outputs": [
    {
     "data": {
      "text/html": [
       "<div>\n",
       "<style scoped>\n",
       "    .dataframe tbody tr th:only-of-type {\n",
       "        vertical-align: middle;\n",
       "    }\n",
       "\n",
       "    .dataframe tbody tr th {\n",
       "        vertical-align: top;\n",
       "    }\n",
       "\n",
       "    .dataframe thead th {\n",
       "        text-align: right;\n",
       "    }\n",
       "</style>\n",
       "<table border=\"1\" class=\"dataframe\">\n",
       "  <thead>\n",
       "    <tr style=\"text-align: right;\">\n",
       "      <th></th>\n",
       "      <th>Feature</th>\n",
       "      <th>PC1</th>\n",
       "      <th>PC2</th>\n",
       "      <th>PC3</th>\n",
       "      <th>PC4</th>\n",
       "      <th>PC5</th>\n",
       "    </tr>\n",
       "  </thead>\n",
       "  <tbody>\n",
       "    <tr>\n",
       "      <th>62</th>\n",
       "      <td>sgl_cnt</td>\n",
       "      <td>0.019038</td>\n",
       "      <td>0.165292</td>\n",
       "      <td>-0.033280</td>\n",
       "      <td>-0.016373</td>\n",
       "      <td>0.030448</td>\n",
       "    </tr>\n",
       "    <tr>\n",
       "      <th>60</th>\n",
       "      <td>marital_st_cnt</td>\n",
       "      <td>0.015746</td>\n",
       "      <td>0.164269</td>\n",
       "      <td>-0.063883</td>\n",
       "      <td>-0.008449</td>\n",
       "      <td>-0.000501</td>\n",
       "    </tr>\n",
       "    <tr>\n",
       "      <th>1</th>\n",
       "      <td>ee_cnt</td>\n",
       "      <td>0.015748</td>\n",
       "      <td>0.164262</td>\n",
       "      <td>-0.063908</td>\n",
       "      <td>-0.008396</td>\n",
       "      <td>-0.000498</td>\n",
       "    </tr>\n",
       "    <tr>\n",
       "      <th>137</th>\n",
       "      <td>gen_cnt</td>\n",
       "      <td>0.015748</td>\n",
       "      <td>0.164262</td>\n",
       "      <td>-0.063908</td>\n",
       "      <td>-0.008396</td>\n",
       "      <td>-0.000498</td>\n",
       "    </tr>\n",
       "    <tr>\n",
       "      <th>10</th>\n",
       "      <td>gender_cnt</td>\n",
       "      <td>0.015748</td>\n",
       "      <td>0.164262</td>\n",
       "      <td>-0.063908</td>\n",
       "      <td>-0.008396</td>\n",
       "      <td>-0.000498</td>\n",
       "    </tr>\n",
       "    <tr>\n",
       "      <th>...</th>\n",
       "      <td>...</td>\n",
       "      <td>...</td>\n",
       "      <td>...</td>\n",
       "      <td>...</td>\n",
       "      <td>...</td>\n",
       "      <td>...</td>\n",
       "    </tr>\n",
       "    <tr>\n",
       "      <th>176</th>\n",
       "      <td>tenure_gen_y_m</td>\n",
       "      <td>0.023240</td>\n",
       "      <td>-0.072506</td>\n",
       "      <td>-0.120670</td>\n",
       "      <td>-0.128973</td>\n",
       "      <td>-0.088142</td>\n",
       "    </tr>\n",
       "    <tr>\n",
       "      <th>230</th>\n",
       "      <td>tenure_mle_s_m</td>\n",
       "      <td>-0.039869</td>\n",
       "      <td>-0.073273</td>\n",
       "      <td>-0.146058</td>\n",
       "      <td>0.017010</td>\n",
       "      <td>0.087523</td>\n",
       "    </tr>\n",
       "    <tr>\n",
       "      <th>15</th>\n",
       "      <td>tenure_m</td>\n",
       "      <td>-0.031198</td>\n",
       "      <td>-0.078798</td>\n",
       "      <td>-0.166301</td>\n",
       "      <td>0.054394</td>\n",
       "      <td>0.008180</td>\n",
       "    </tr>\n",
       "    <tr>\n",
       "      <th>207</th>\n",
       "      <td>tenure_mle_ann_lvl_six_fig_m</td>\n",
       "      <td>-0.029432</td>\n",
       "      <td>-0.079642</td>\n",
       "      <td>-0.131924</td>\n",
       "      <td>0.032437</td>\n",
       "      <td>0.093872</td>\n",
       "    </tr>\n",
       "    <tr>\n",
       "      <th>227</th>\n",
       "      <td>tenure_mle_m</td>\n",
       "      <td>-0.018405</td>\n",
       "      <td>-0.081817</td>\n",
       "      <td>-0.171890</td>\n",
       "      <td>0.031275</td>\n",
       "      <td>-0.014412</td>\n",
       "    </tr>\n",
       "  </tbody>\n",
       "</table>\n",
       "<p>233 rows × 6 columns</p>\n",
       "</div>"
      ],
      "text/plain": [
       "                          Feature       PC1       PC2       PC3       PC4  \\\n",
       "62                        sgl_cnt  0.019038  0.165292 -0.033280 -0.016373   \n",
       "60                 marital_st_cnt  0.015746  0.164269 -0.063883 -0.008449   \n",
       "1                          ee_cnt  0.015748  0.164262 -0.063908 -0.008396   \n",
       "137                       gen_cnt  0.015748  0.164262 -0.063908 -0.008396   \n",
       "10                     gender_cnt  0.015748  0.164262 -0.063908 -0.008396   \n",
       "..                            ...       ...       ...       ...       ...   \n",
       "176                tenure_gen_y_m  0.023240 -0.072506 -0.120670 -0.128973   \n",
       "230                tenure_mle_s_m -0.039869 -0.073273 -0.146058  0.017010   \n",
       "15                       tenure_m -0.031198 -0.078798 -0.166301  0.054394   \n",
       "207  tenure_mle_ann_lvl_six_fig_m -0.029432 -0.079642 -0.131924  0.032437   \n",
       "227                  tenure_mle_m -0.018405 -0.081817 -0.171890  0.031275   \n",
       "\n",
       "          PC5  \n",
       "62   0.030448  \n",
       "60  -0.000501  \n",
       "1   -0.000498  \n",
       "137 -0.000498  \n",
       "10  -0.000498  \n",
       "..        ...  \n",
       "176 -0.088142  \n",
       "230  0.087523  \n",
       "15   0.008180  \n",
       "207  0.093872  \n",
       "227 -0.014412  \n",
       "\n",
       "[233 rows x 6 columns]"
      ]
     },
     "execution_count": 874,
     "metadata": {},
     "output_type": "execute_result"
    }
   ],
   "source": [
    "pca_comp.sort_values('PC2',ascending=False)"
   ]
  },
  {
   "cell_type": "markdown",
   "metadata": {},
   "source": [
    "# Build a Model to Predict the Percentage Change"
   ]
  },
  {
   "cell_type": "code",
   "execution_count": 894,
   "metadata": {},
   "outputs": [
    {
     "data": {
      "text/html": [
       "<div>\n",
       "<style scoped>\n",
       "    .dataframe tbody tr th:only-of-type {\n",
       "        vertical-align: middle;\n",
       "    }\n",
       "\n",
       "    .dataframe tbody tr th {\n",
       "        vertical-align: top;\n",
       "    }\n",
       "\n",
       "    .dataframe thead tr th {\n",
       "        text-align: left;\n",
       "    }\n",
       "\n",
       "    .dataframe thead tr:last-of-type th {\n",
       "        text-align: right;\n",
       "    }\n",
       "</style>\n",
       "<table border=\"1\" class=\"dataframe\">\n",
       "  <thead>\n",
       "    <tr>\n",
       "      <th></th>\n",
       "      <th colspan=\"10\" halign=\"left\">employer_cnt</th>\n",
       "      <th>...</th>\n",
       "      <th colspan=\"10\" halign=\"left\">zri</th>\n",
       "    </tr>\n",
       "    <tr>\n",
       "      <th>zip</th>\n",
       "      <th>10001</th>\n",
       "      <th>10003</th>\n",
       "      <th>10005</th>\n",
       "      <th>10009</th>\n",
       "      <th>10010</th>\n",
       "      <th>10011</th>\n",
       "      <th>10012</th>\n",
       "      <th>10013</th>\n",
       "      <th>10014</th>\n",
       "      <th>10016</th>\n",
       "      <th>...</th>\n",
       "      <th>11427</th>\n",
       "      <th>11429</th>\n",
       "      <th>11432</th>\n",
       "      <th>11433</th>\n",
       "      <th>11434</th>\n",
       "      <th>11435</th>\n",
       "      <th>11436</th>\n",
       "      <th>11691</th>\n",
       "      <th>11692</th>\n",
       "      <th>11694</th>\n",
       "    </tr>\n",
       "    <tr>\n",
       "      <th>time</th>\n",
       "      <th></th>\n",
       "      <th></th>\n",
       "      <th></th>\n",
       "      <th></th>\n",
       "      <th></th>\n",
       "      <th></th>\n",
       "      <th></th>\n",
       "      <th></th>\n",
       "      <th></th>\n",
       "      <th></th>\n",
       "      <th></th>\n",
       "      <th></th>\n",
       "      <th></th>\n",
       "      <th></th>\n",
       "      <th></th>\n",
       "      <th></th>\n",
       "      <th></th>\n",
       "      <th></th>\n",
       "      <th></th>\n",
       "      <th></th>\n",
       "      <th></th>\n",
       "    </tr>\n",
       "  </thead>\n",
       "  <tbody>\n",
       "    <tr>\n",
       "      <th>2011-01</th>\n",
       "      <td>1231.0</td>\n",
       "      <td>2088.0</td>\n",
       "      <td>630.0</td>\n",
       "      <td>1989.0</td>\n",
       "      <td>1546.0</td>\n",
       "      <td>2047.0</td>\n",
       "      <td>1189.0</td>\n",
       "      <td>1139.0</td>\n",
       "      <td>1533.0</td>\n",
       "      <td>2309.0</td>\n",
       "      <td>...</td>\n",
       "      <td>1456.0</td>\n",
       "      <td>1457.0</td>\n",
       "      <td>1481.0</td>\n",
       "      <td>1544.0</td>\n",
       "      <td>1543.0</td>\n",
       "      <td>1471.0</td>\n",
       "      <td>1489.0</td>\n",
       "      <td>1558.0</td>\n",
       "      <td>1532.0</td>\n",
       "      <td>1523.0</td>\n",
       "    </tr>\n",
       "    <tr>\n",
       "      <th>2011-02</th>\n",
       "      <td>1235.0</td>\n",
       "      <td>2124.0</td>\n",
       "      <td>652.0</td>\n",
       "      <td>1992.0</td>\n",
       "      <td>1537.0</td>\n",
       "      <td>2071.0</td>\n",
       "      <td>1213.0</td>\n",
       "      <td>1141.0</td>\n",
       "      <td>1548.0</td>\n",
       "      <td>2303.0</td>\n",
       "      <td>...</td>\n",
       "      <td>1455.0</td>\n",
       "      <td>1463.0</td>\n",
       "      <td>1485.0</td>\n",
       "      <td>1545.0</td>\n",
       "      <td>1548.0</td>\n",
       "      <td>1472.0</td>\n",
       "      <td>1498.0</td>\n",
       "      <td>1562.0</td>\n",
       "      <td>1531.0</td>\n",
       "      <td>1527.0</td>\n",
       "    </tr>\n",
       "    <tr>\n",
       "      <th>2011-03</th>\n",
       "      <td>1251.0</td>\n",
       "      <td>2136.0</td>\n",
       "      <td>663.0</td>\n",
       "      <td>2025.0</td>\n",
       "      <td>1560.0</td>\n",
       "      <td>2093.0</td>\n",
       "      <td>1214.0</td>\n",
       "      <td>1155.0</td>\n",
       "      <td>1563.0</td>\n",
       "      <td>2317.0</td>\n",
       "      <td>...</td>\n",
       "      <td>1451.0</td>\n",
       "      <td>1464.0</td>\n",
       "      <td>1485.0</td>\n",
       "      <td>1545.0</td>\n",
       "      <td>1549.0</td>\n",
       "      <td>1469.0</td>\n",
       "      <td>1497.0</td>\n",
       "      <td>1565.0</td>\n",
       "      <td>1526.0</td>\n",
       "      <td>1529.0</td>\n",
       "    </tr>\n",
       "    <tr>\n",
       "      <th>2011-04</th>\n",
       "      <td>1269.0</td>\n",
       "      <td>2163.0</td>\n",
       "      <td>664.0</td>\n",
       "      <td>2056.0</td>\n",
       "      <td>1576.0</td>\n",
       "      <td>2117.0</td>\n",
       "      <td>1223.0</td>\n",
       "      <td>1174.0</td>\n",
       "      <td>1581.0</td>\n",
       "      <td>2358.0</td>\n",
       "      <td>...</td>\n",
       "      <td>1446.0</td>\n",
       "      <td>1470.0</td>\n",
       "      <td>1488.0</td>\n",
       "      <td>1544.0</td>\n",
       "      <td>1548.0</td>\n",
       "      <td>1471.0</td>\n",
       "      <td>1495.0</td>\n",
       "      <td>1566.0</td>\n",
       "      <td>1526.0</td>\n",
       "      <td>1526.0</td>\n",
       "    </tr>\n",
       "    <tr>\n",
       "      <th>2011-05</th>\n",
       "      <td>1242.0</td>\n",
       "      <td>2109.0</td>\n",
       "      <td>651.0</td>\n",
       "      <td>2016.0</td>\n",
       "      <td>1541.0</td>\n",
       "      <td>2084.0</td>\n",
       "      <td>1184.0</td>\n",
       "      <td>1159.0</td>\n",
       "      <td>1545.0</td>\n",
       "      <td>2289.0</td>\n",
       "      <td>...</td>\n",
       "      <td>1440.0</td>\n",
       "      <td>1466.0</td>\n",
       "      <td>1486.0</td>\n",
       "      <td>1543.0</td>\n",
       "      <td>1540.0</td>\n",
       "      <td>1475.0</td>\n",
       "      <td>1489.0</td>\n",
       "      <td>1565.0</td>\n",
       "      <td>1521.0</td>\n",
       "      <td>1523.0</td>\n",
       "    </tr>\n",
       "    <tr>\n",
       "      <th>...</th>\n",
       "      <td>...</td>\n",
       "      <td>...</td>\n",
       "      <td>...</td>\n",
       "      <td>...</td>\n",
       "      <td>...</td>\n",
       "      <td>...</td>\n",
       "      <td>...</td>\n",
       "      <td>...</td>\n",
       "      <td>...</td>\n",
       "      <td>...</td>\n",
       "      <td>...</td>\n",
       "      <td>...</td>\n",
       "      <td>...</td>\n",
       "      <td>...</td>\n",
       "      <td>...</td>\n",
       "      <td>...</td>\n",
       "      <td>...</td>\n",
       "      <td>...</td>\n",
       "      <td>...</td>\n",
       "      <td>...</td>\n",
       "      <td>...</td>\n",
       "    </tr>\n",
       "    <tr>\n",
       "      <th>2019-05</th>\n",
       "      <td>1535.0</td>\n",
       "      <td>2191.0</td>\n",
       "      <td>775.0</td>\n",
       "      <td>2383.0</td>\n",
       "      <td>1561.0</td>\n",
       "      <td>2245.0</td>\n",
       "      <td>1227.0</td>\n",
       "      <td>1337.0</td>\n",
       "      <td>1628.0</td>\n",
       "      <td>2465.0</td>\n",
       "      <td>...</td>\n",
       "      <td>2137.0</td>\n",
       "      <td>2107.0</td>\n",
       "      <td>2002.0</td>\n",
       "      <td>2199.0</td>\n",
       "      <td>2197.0</td>\n",
       "      <td>2011.0</td>\n",
       "      <td>2132.0</td>\n",
       "      <td>2198.0</td>\n",
       "      <td>2185.0</td>\n",
       "      <td>2162.0</td>\n",
       "    </tr>\n",
       "    <tr>\n",
       "      <th>2019-06</th>\n",
       "      <td>1530.0</td>\n",
       "      <td>2175.0</td>\n",
       "      <td>780.0</td>\n",
       "      <td>2366.0</td>\n",
       "      <td>1550.0</td>\n",
       "      <td>2210.0</td>\n",
       "      <td>1208.0</td>\n",
       "      <td>1321.0</td>\n",
       "      <td>1599.0</td>\n",
       "      <td>2442.0</td>\n",
       "      <td>...</td>\n",
       "      <td>2130.0</td>\n",
       "      <td>2102.0</td>\n",
       "      <td>2003.0</td>\n",
       "      <td>2193.0</td>\n",
       "      <td>2193.0</td>\n",
       "      <td>2010.0</td>\n",
       "      <td>2121.0</td>\n",
       "      <td>2193.0</td>\n",
       "      <td>2172.0</td>\n",
       "      <td>2162.0</td>\n",
       "    </tr>\n",
       "    <tr>\n",
       "      <th>2019-07</th>\n",
       "      <td>1499.0</td>\n",
       "      <td>2184.0</td>\n",
       "      <td>780.0</td>\n",
       "      <td>2392.0</td>\n",
       "      <td>1535.0</td>\n",
       "      <td>2196.0</td>\n",
       "      <td>1226.0</td>\n",
       "      <td>1325.0</td>\n",
       "      <td>1601.0</td>\n",
       "      <td>2463.0</td>\n",
       "      <td>...</td>\n",
       "      <td>2128.0</td>\n",
       "      <td>2087.0</td>\n",
       "      <td>2004.0</td>\n",
       "      <td>2183.0</td>\n",
       "      <td>2186.0</td>\n",
       "      <td>2006.0</td>\n",
       "      <td>2109.0</td>\n",
       "      <td>2187.0</td>\n",
       "      <td>2157.0</td>\n",
       "      <td>2161.0</td>\n",
       "    </tr>\n",
       "    <tr>\n",
       "      <th>2019-08</th>\n",
       "      <td>1441.0</td>\n",
       "      <td>2098.0</td>\n",
       "      <td>752.0</td>\n",
       "      <td>2290.0</td>\n",
       "      <td>1467.0</td>\n",
       "      <td>2109.0</td>\n",
       "      <td>1152.0</td>\n",
       "      <td>1258.0</td>\n",
       "      <td>1549.0</td>\n",
       "      <td>2381.0</td>\n",
       "      <td>...</td>\n",
       "      <td>2126.0</td>\n",
       "      <td>2074.0</td>\n",
       "      <td>2004.0</td>\n",
       "      <td>2174.0</td>\n",
       "      <td>2175.0</td>\n",
       "      <td>2002.0</td>\n",
       "      <td>2094.0</td>\n",
       "      <td>2181.0</td>\n",
       "      <td>2142.0</td>\n",
       "      <td>2158.0</td>\n",
       "    </tr>\n",
       "    <tr>\n",
       "      <th>2019-09</th>\n",
       "      <td>1503.0</td>\n",
       "      <td>2132.0</td>\n",
       "      <td>765.0</td>\n",
       "      <td>2394.0</td>\n",
       "      <td>1511.0</td>\n",
       "      <td>2168.0</td>\n",
       "      <td>1215.0</td>\n",
       "      <td>1301.0</td>\n",
       "      <td>1590.0</td>\n",
       "      <td>2458.0</td>\n",
       "      <td>...</td>\n",
       "      <td>2127.0</td>\n",
       "      <td>2070.0</td>\n",
       "      <td>2005.0</td>\n",
       "      <td>2173.0</td>\n",
       "      <td>2175.0</td>\n",
       "      <td>2000.0</td>\n",
       "      <td>2086.0</td>\n",
       "      <td>2185.0</td>\n",
       "      <td>2145.0</td>\n",
       "      <td>2159.0</td>\n",
       "    </tr>\n",
       "  </tbody>\n",
       "</table>\n",
       "<p>105 rows × 32332 columns</p>\n",
       "</div>"
      ],
      "text/plain": [
       "        employer_cnt                                                         \\\n",
       "zip            10001   10003  10005   10009   10010   10011   10012   10013   \n",
       "time                                                                          \n",
       "2011-01       1231.0  2088.0  630.0  1989.0  1546.0  2047.0  1189.0  1139.0   \n",
       "2011-02       1235.0  2124.0  652.0  1992.0  1537.0  2071.0  1213.0  1141.0   \n",
       "2011-03       1251.0  2136.0  663.0  2025.0  1560.0  2093.0  1214.0  1155.0   \n",
       "2011-04       1269.0  2163.0  664.0  2056.0  1576.0  2117.0  1223.0  1174.0   \n",
       "2011-05       1242.0  2109.0  651.0  2016.0  1541.0  2084.0  1184.0  1159.0   \n",
       "...              ...     ...    ...     ...     ...     ...     ...     ...   \n",
       "2019-05       1535.0  2191.0  775.0  2383.0  1561.0  2245.0  1227.0  1337.0   \n",
       "2019-06       1530.0  2175.0  780.0  2366.0  1550.0  2210.0  1208.0  1321.0   \n",
       "2019-07       1499.0  2184.0  780.0  2392.0  1535.0  2196.0  1226.0  1325.0   \n",
       "2019-08       1441.0  2098.0  752.0  2290.0  1467.0  2109.0  1152.0  1258.0   \n",
       "2019-09       1503.0  2132.0  765.0  2394.0  1511.0  2168.0  1215.0  1301.0   \n",
       "\n",
       "                         ...     zri                                          \\\n",
       "zip       10014   10016  ...   11427   11429   11432   11433   11434   11435   \n",
       "time                     ...                                                   \n",
       "2011-01  1533.0  2309.0  ...  1456.0  1457.0  1481.0  1544.0  1543.0  1471.0   \n",
       "2011-02  1548.0  2303.0  ...  1455.0  1463.0  1485.0  1545.0  1548.0  1472.0   \n",
       "2011-03  1563.0  2317.0  ...  1451.0  1464.0  1485.0  1545.0  1549.0  1469.0   \n",
       "2011-04  1581.0  2358.0  ...  1446.0  1470.0  1488.0  1544.0  1548.0  1471.0   \n",
       "2011-05  1545.0  2289.0  ...  1440.0  1466.0  1486.0  1543.0  1540.0  1475.0   \n",
       "...         ...     ...  ...     ...     ...     ...     ...     ...     ...   \n",
       "2019-05  1628.0  2465.0  ...  2137.0  2107.0  2002.0  2199.0  2197.0  2011.0   \n",
       "2019-06  1599.0  2442.0  ...  2130.0  2102.0  2003.0  2193.0  2193.0  2010.0   \n",
       "2019-07  1601.0  2463.0  ...  2128.0  2087.0  2004.0  2183.0  2186.0  2006.0   \n",
       "2019-08  1549.0  2381.0  ...  2126.0  2074.0  2004.0  2174.0  2175.0  2002.0   \n",
       "2019-09  1590.0  2458.0  ...  2127.0  2070.0  2005.0  2173.0  2175.0  2000.0   \n",
       "\n",
       "                                         \n",
       "zip       11436   11691   11692   11694  \n",
       "time                                     \n",
       "2011-01  1489.0  1558.0  1532.0  1523.0  \n",
       "2011-02  1498.0  1562.0  1531.0  1527.0  \n",
       "2011-03  1497.0  1565.0  1526.0  1529.0  \n",
       "2011-04  1495.0  1566.0  1526.0  1526.0  \n",
       "2011-05  1489.0  1565.0  1521.0  1523.0  \n",
       "...         ...     ...     ...     ...  \n",
       "2019-05  2132.0  2198.0  2185.0  2162.0  \n",
       "2019-06  2121.0  2193.0  2172.0  2162.0  \n",
       "2019-07  2109.0  2187.0  2157.0  2161.0  \n",
       "2019-08  2094.0  2181.0  2142.0  2158.0  \n",
       "2019-09  2086.0  2185.0  2145.0  2159.0  \n",
       "\n",
       "[105 rows x 32332 columns]"
      ]
     },
     "execution_count": 894,
     "metadata": {},
     "output_type": "execute_result"
    }
   ],
   "source": [
    "full.unstack()"
   ]
  },
  {
   "cell_type": "code",
   "execution_count": null,
   "metadata": {},
   "outputs": [],
   "source": []
  }
 ],
 "metadata": {
  "kernelspec": {
   "display_name": "Python 3",
   "language": "python",
   "name": "python3"
  },
  "language_info": {
   "codemirror_mode": {
    "name": "ipython",
    "version": 3
   },
   "file_extension": ".py",
   "mimetype": "text/x-python",
   "name": "python",
   "nbconvert_exporter": "python",
   "pygments_lexer": "ipython3",
   "version": "3.7.6"
  }
 },
 "nbformat": 4,
 "nbformat_minor": 4
}
